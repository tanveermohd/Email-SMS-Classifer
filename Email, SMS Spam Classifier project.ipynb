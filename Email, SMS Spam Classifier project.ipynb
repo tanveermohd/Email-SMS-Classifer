{
 "cells": [
  {
   "cell_type": "code",
   "execution_count": 1,
   "id": "3d507850",
   "metadata": {},
   "outputs": [],
   "source": [
    "import pandas as pd\n",
    "import numpy as np"
   ]
  },
  {
   "cell_type": "code",
   "execution_count": 259,
   "id": "bf18459a",
   "metadata": {},
   "outputs": [],
   "source": [
    "df = pd.read_csv('spam.csv', encoding='ISO-8859-1')"
   ]
  },
  {
   "cell_type": "code",
   "execution_count": 11,
   "id": "928b5a85",
   "metadata": {},
   "outputs": [],
   "source": [
    "df.drop(columns = ['Unnamed: 2','Unnamed: 3', 'Unnamed: 4'], inplace  =True)"
   ]
  },
  {
   "cell_type": "code",
   "execution_count": 12,
   "id": "2b66ac6a",
   "metadata": {},
   "outputs": [
    {
     "data": {
      "text/html": [
       "<div>\n",
       "<style scoped>\n",
       "    .dataframe tbody tr th:only-of-type {\n",
       "        vertical-align: middle;\n",
       "    }\n",
       "\n",
       "    .dataframe tbody tr th {\n",
       "        vertical-align: top;\n",
       "    }\n",
       "\n",
       "    .dataframe thead th {\n",
       "        text-align: right;\n",
       "    }\n",
       "</style>\n",
       "<table border=\"1\" class=\"dataframe\">\n",
       "  <thead>\n",
       "    <tr style=\"text-align: right;\">\n",
       "      <th></th>\n",
       "      <th>v1</th>\n",
       "      <th>v2</th>\n",
       "    </tr>\n",
       "  </thead>\n",
       "  <tbody>\n",
       "    <tr>\n",
       "      <th>0</th>\n",
       "      <td>ham</td>\n",
       "      <td>Go until jurong point, crazy.. Available only ...</td>\n",
       "    </tr>\n",
       "    <tr>\n",
       "      <th>1</th>\n",
       "      <td>ham</td>\n",
       "      <td>Ok lar... Joking wif u oni...</td>\n",
       "    </tr>\n",
       "    <tr>\n",
       "      <th>2</th>\n",
       "      <td>spam</td>\n",
       "      <td>Free entry in 2 a wkly comp to win FA Cup fina...</td>\n",
       "    </tr>\n",
       "    <tr>\n",
       "      <th>3</th>\n",
       "      <td>ham</td>\n",
       "      <td>U dun say so early hor... U c already then say...</td>\n",
       "    </tr>\n",
       "    <tr>\n",
       "      <th>4</th>\n",
       "      <td>ham</td>\n",
       "      <td>Nah I don't think he goes to usf, he lives aro...</td>\n",
       "    </tr>\n",
       "    <tr>\n",
       "      <th>...</th>\n",
       "      <td>...</td>\n",
       "      <td>...</td>\n",
       "    </tr>\n",
       "    <tr>\n",
       "      <th>5567</th>\n",
       "      <td>spam</td>\n",
       "      <td>This is the 2nd time we have tried 2 contact u...</td>\n",
       "    </tr>\n",
       "    <tr>\n",
       "      <th>5568</th>\n",
       "      <td>ham</td>\n",
       "      <td>Will Ì_ b going to esplanade fr home?</td>\n",
       "    </tr>\n",
       "    <tr>\n",
       "      <th>5569</th>\n",
       "      <td>ham</td>\n",
       "      <td>Pity, * was in mood for that. So...any other s...</td>\n",
       "    </tr>\n",
       "    <tr>\n",
       "      <th>5570</th>\n",
       "      <td>ham</td>\n",
       "      <td>The guy did some bitching but I acted like i'd...</td>\n",
       "    </tr>\n",
       "    <tr>\n",
       "      <th>5571</th>\n",
       "      <td>ham</td>\n",
       "      <td>Rofl. Its true to its name</td>\n",
       "    </tr>\n",
       "  </tbody>\n",
       "</table>\n",
       "<p>5572 rows × 2 columns</p>\n",
       "</div>"
      ],
      "text/plain": [
       "        v1                                                 v2\n",
       "0      ham  Go until jurong point, crazy.. Available only ...\n",
       "1      ham                      Ok lar... Joking wif u oni...\n",
       "2     spam  Free entry in 2 a wkly comp to win FA Cup fina...\n",
       "3      ham  U dun say so early hor... U c already then say...\n",
       "4      ham  Nah I don't think he goes to usf, he lives aro...\n",
       "...    ...                                                ...\n",
       "5567  spam  This is the 2nd time we have tried 2 contact u...\n",
       "5568   ham              Will Ì_ b going to esplanade fr home?\n",
       "5569   ham  Pity, * was in mood for that. So...any other s...\n",
       "5570   ham  The guy did some bitching but I acted like i'd...\n",
       "5571   ham                         Rofl. Its true to its name\n",
       "\n",
       "[5572 rows x 2 columns]"
      ]
     },
     "execution_count": 12,
     "metadata": {},
     "output_type": "execute_result"
    }
   ],
   "source": [
    "df"
   ]
  },
  {
   "cell_type": "code",
   "execution_count": 13,
   "id": "faa96d3b",
   "metadata": {},
   "outputs": [
    {
     "data": {
      "text/plain": [
       "(5572, 2)"
      ]
     },
     "execution_count": 13,
     "metadata": {},
     "output_type": "execute_result"
    }
   ],
   "source": [
    "df.shape"
   ]
  },
  {
   "cell_type": "code",
   "execution_count": 15,
   "id": "ca008f2e",
   "metadata": {},
   "outputs": [],
   "source": [
    "#Data Cleaning\n",
    "#EDA\n",
    "#Text Preprocessing\n",
    "#model Building\n",
    "#Evaluation\n",
    "#Improvements\n",
    "#Website\n",
    "#Deploy"
   ]
  },
  {
   "cell_type": "code",
   "execution_count": 16,
   "id": "dca93c49",
   "metadata": {},
   "outputs": [
    {
     "name": "stdout",
     "output_type": "stream",
     "text": [
      "<class 'pandas.core.frame.DataFrame'>\n",
      "RangeIndex: 5572 entries, 0 to 5571\n",
      "Data columns (total 2 columns):\n",
      " #   Column  Non-Null Count  Dtype \n",
      "---  ------  --------------  ----- \n",
      " 0   v1      5572 non-null   object\n",
      " 1   v2      5572 non-null   object\n",
      "dtypes: object(2)\n",
      "memory usage: 87.2+ KB\n"
     ]
    }
   ],
   "source": [
    "df.info()"
   ]
  },
  {
   "cell_type": "code",
   "execution_count": 17,
   "id": "ab541ead",
   "metadata": {},
   "outputs": [
    {
     "data": {
      "text/html": [
       "<div>\n",
       "<style scoped>\n",
       "    .dataframe tbody tr th:only-of-type {\n",
       "        vertical-align: middle;\n",
       "    }\n",
       "\n",
       "    .dataframe tbody tr th {\n",
       "        vertical-align: top;\n",
       "    }\n",
       "\n",
       "    .dataframe thead th {\n",
       "        text-align: right;\n",
       "    }\n",
       "</style>\n",
       "<table border=\"1\" class=\"dataframe\">\n",
       "  <thead>\n",
       "    <tr style=\"text-align: right;\">\n",
       "      <th></th>\n",
       "      <th>v1</th>\n",
       "      <th>v2</th>\n",
       "    </tr>\n",
       "  </thead>\n",
       "  <tbody>\n",
       "    <tr>\n",
       "      <th>1381</th>\n",
       "      <td>ham</td>\n",
       "      <td>We spend our days waiting for the ideal path t...</td>\n",
       "    </tr>\n",
       "    <tr>\n",
       "      <th>4517</th>\n",
       "      <td>ham</td>\n",
       "      <td>That sucks. So what do you got planned for you...</td>\n",
       "    </tr>\n",
       "    <tr>\n",
       "      <th>1202</th>\n",
       "      <td>ham</td>\n",
       "      <td>Me also da, i feel yesterday night  wait til 2...</td>\n",
       "    </tr>\n",
       "    <tr>\n",
       "      <th>61</th>\n",
       "      <td>ham</td>\n",
       "      <td>Ha ha ha good joke. Girls are situation seekers.</td>\n",
       "    </tr>\n",
       "    <tr>\n",
       "      <th>3407</th>\n",
       "      <td>spam</td>\n",
       "      <td>Do you want a New Nokia 3510i colour phone Del...</td>\n",
       "    </tr>\n",
       "  </tbody>\n",
       "</table>\n",
       "</div>"
      ],
      "text/plain": [
       "        v1                                                 v2\n",
       "1381   ham  We spend our days waiting for the ideal path t...\n",
       "4517   ham  That sucks. So what do you got planned for you...\n",
       "1202   ham  Me also da, i feel yesterday night  wait til 2...\n",
       "61     ham   Ha ha ha good joke. Girls are situation seekers.\n",
       "3407  spam  Do you want a New Nokia 3510i colour phone Del..."
      ]
     },
     "execution_count": 17,
     "metadata": {},
     "output_type": "execute_result"
    }
   ],
   "source": [
    "df.sample(5)"
   ]
  },
  {
   "cell_type": "code",
   "execution_count": 18,
   "id": "a3c8fb39",
   "metadata": {},
   "outputs": [],
   "source": [
    "# Renaming Columns\n",
    "df.rename(columns = {'v1':'target','v2':'text'},inplace =True)"
   ]
  },
  {
   "cell_type": "code",
   "execution_count": 19,
   "id": "3c9dc184",
   "metadata": {},
   "outputs": [
    {
     "data": {
      "text/html": [
       "<div>\n",
       "<style scoped>\n",
       "    .dataframe tbody tr th:only-of-type {\n",
       "        vertical-align: middle;\n",
       "    }\n",
       "\n",
       "    .dataframe tbody tr th {\n",
       "        vertical-align: top;\n",
       "    }\n",
       "\n",
       "    .dataframe thead th {\n",
       "        text-align: right;\n",
       "    }\n",
       "</style>\n",
       "<table border=\"1\" class=\"dataframe\">\n",
       "  <thead>\n",
       "    <tr style=\"text-align: right;\">\n",
       "      <th></th>\n",
       "      <th>target</th>\n",
       "      <th>text</th>\n",
       "    </tr>\n",
       "  </thead>\n",
       "  <tbody>\n",
       "    <tr>\n",
       "      <th>5200</th>\n",
       "      <td>spam</td>\n",
       "      <td>Call Germany for only 1 pence per minute! Call...</td>\n",
       "    </tr>\n",
       "    <tr>\n",
       "      <th>1775</th>\n",
       "      <td>ham</td>\n",
       "      <td>Did u see what I posted on your Facebook?</td>\n",
       "    </tr>\n",
       "    <tr>\n",
       "      <th>4997</th>\n",
       "      <td>ham</td>\n",
       "      <td>Can you talk with me..</td>\n",
       "    </tr>\n",
       "    <tr>\n",
       "      <th>2561</th>\n",
       "      <td>ham</td>\n",
       "      <td>And maybe some pressies</td>\n",
       "    </tr>\n",
       "    <tr>\n",
       "      <th>2390</th>\n",
       "      <td>ham</td>\n",
       "      <td>First has she gained more than  &amp;lt;#&amp;gt; kg s...</td>\n",
       "    </tr>\n",
       "  </tbody>\n",
       "</table>\n",
       "</div>"
      ],
      "text/plain": [
       "     target                                               text\n",
       "5200   spam  Call Germany for only 1 pence per minute! Call...\n",
       "1775    ham          Did u see what I posted on your Facebook?\n",
       "4997    ham                             Can you talk with me..\n",
       "2561    ham                            And maybe some pressies\n",
       "2390    ham  First has she gained more than  &lt;#&gt; kg s..."
      ]
     },
     "execution_count": 19,
     "metadata": {},
     "output_type": "execute_result"
    }
   ],
   "source": [
    "df.sample(5)"
   ]
  },
  {
   "cell_type": "code",
   "execution_count": 20,
   "id": "0d645bf9",
   "metadata": {},
   "outputs": [],
   "source": [
    "from sklearn.preprocessing import LabelEncoder\n",
    "encoder = LabelEncoder()"
   ]
  },
  {
   "cell_type": "code",
   "execution_count": 22,
   "id": "08d13c97",
   "metadata": {},
   "outputs": [
    {
     "data": {
      "text/html": [
       "<div>\n",
       "<style scoped>\n",
       "    .dataframe tbody tr th:only-of-type {\n",
       "        vertical-align: middle;\n",
       "    }\n",
       "\n",
       "    .dataframe tbody tr th {\n",
       "        vertical-align: top;\n",
       "    }\n",
       "\n",
       "    .dataframe thead th {\n",
       "        text-align: right;\n",
       "    }\n",
       "</style>\n",
       "<table border=\"1\" class=\"dataframe\">\n",
       "  <thead>\n",
       "    <tr style=\"text-align: right;\">\n",
       "      <th></th>\n",
       "      <th>target</th>\n",
       "      <th>text</th>\n",
       "    </tr>\n",
       "  </thead>\n",
       "  <tbody>\n",
       "    <tr>\n",
       "      <th>0</th>\n",
       "      <td>0</td>\n",
       "      <td>Go until jurong point, crazy.. Available only ...</td>\n",
       "    </tr>\n",
       "    <tr>\n",
       "      <th>1</th>\n",
       "      <td>0</td>\n",
       "      <td>Ok lar... Joking wif u oni...</td>\n",
       "    </tr>\n",
       "    <tr>\n",
       "      <th>2</th>\n",
       "      <td>1</td>\n",
       "      <td>Free entry in 2 a wkly comp to win FA Cup fina...</td>\n",
       "    </tr>\n",
       "    <tr>\n",
       "      <th>3</th>\n",
       "      <td>0</td>\n",
       "      <td>U dun say so early hor... U c already then say...</td>\n",
       "    </tr>\n",
       "    <tr>\n",
       "      <th>4</th>\n",
       "      <td>0</td>\n",
       "      <td>Nah I don't think he goes to usf, he lives aro...</td>\n",
       "    </tr>\n",
       "  </tbody>\n",
       "</table>\n",
       "</div>"
      ],
      "text/plain": [
       "   target                                               text\n",
       "0       0  Go until jurong point, crazy.. Available only ...\n",
       "1       0                      Ok lar... Joking wif u oni...\n",
       "2       1  Free entry in 2 a wkly comp to win FA Cup fina...\n",
       "3       0  U dun say so early hor... U c already then say...\n",
       "4       0  Nah I don't think he goes to usf, he lives aro..."
      ]
     },
     "execution_count": 22,
     "metadata": {},
     "output_type": "execute_result"
    }
   ],
   "source": [
    "df['target'] = encoder.fit_transform(df['target'])\n",
    "df.head()"
   ]
  },
  {
   "cell_type": "code",
   "execution_count": 23,
   "id": "4828bb4e",
   "metadata": {},
   "outputs": [
    {
     "data": {
      "text/plain": [
       "target    0\n",
       "text      0\n",
       "dtype: int64"
      ]
     },
     "execution_count": 23,
     "metadata": {},
     "output_type": "execute_result"
    }
   ],
   "source": [
    "df.isnull().sum()"
   ]
  },
  {
   "cell_type": "code",
   "execution_count": 25,
   "id": "3738a4fc",
   "metadata": {},
   "outputs": [
    {
     "data": {
      "text/plain": [
       "403"
      ]
     },
     "execution_count": 25,
     "metadata": {},
     "output_type": "execute_result"
    }
   ],
   "source": [
    "#check for duplicates values\n",
    "df.duplicated().sum()"
   ]
  },
  {
   "cell_type": "code",
   "execution_count": 26,
   "id": "17920522",
   "metadata": {},
   "outputs": [
    {
     "data": {
      "text/plain": [
       "0"
      ]
     },
     "execution_count": 26,
     "metadata": {},
     "output_type": "execute_result"
    }
   ],
   "source": [
    "df = df.drop_duplicates(keep = 'first')\n",
    "df.duplicated().sum()"
   ]
  },
  {
   "cell_type": "code",
   "execution_count": 27,
   "id": "f9fd4b65",
   "metadata": {},
   "outputs": [],
   "source": [
    "#EDA"
   ]
  },
  {
   "cell_type": "code",
   "execution_count": 28,
   "id": "ad529fd1",
   "metadata": {},
   "outputs": [
    {
     "data": {
      "text/html": [
       "<div>\n",
       "<style scoped>\n",
       "    .dataframe tbody tr th:only-of-type {\n",
       "        vertical-align: middle;\n",
       "    }\n",
       "\n",
       "    .dataframe tbody tr th {\n",
       "        vertical-align: top;\n",
       "    }\n",
       "\n",
       "    .dataframe thead th {\n",
       "        text-align: right;\n",
       "    }\n",
       "</style>\n",
       "<table border=\"1\" class=\"dataframe\">\n",
       "  <thead>\n",
       "    <tr style=\"text-align: right;\">\n",
       "      <th></th>\n",
       "      <th>target</th>\n",
       "      <th>text</th>\n",
       "    </tr>\n",
       "  </thead>\n",
       "  <tbody>\n",
       "    <tr>\n",
       "      <th>0</th>\n",
       "      <td>0</td>\n",
       "      <td>Go until jurong point, crazy.. Available only ...</td>\n",
       "    </tr>\n",
       "    <tr>\n",
       "      <th>1</th>\n",
       "      <td>0</td>\n",
       "      <td>Ok lar... Joking wif u oni...</td>\n",
       "    </tr>\n",
       "    <tr>\n",
       "      <th>2</th>\n",
       "      <td>1</td>\n",
       "      <td>Free entry in 2 a wkly comp to win FA Cup fina...</td>\n",
       "    </tr>\n",
       "    <tr>\n",
       "      <th>3</th>\n",
       "      <td>0</td>\n",
       "      <td>U dun say so early hor... U c already then say...</td>\n",
       "    </tr>\n",
       "    <tr>\n",
       "      <th>4</th>\n",
       "      <td>0</td>\n",
       "      <td>Nah I don't think he goes to usf, he lives aro...</td>\n",
       "    </tr>\n",
       "  </tbody>\n",
       "</table>\n",
       "</div>"
      ],
      "text/plain": [
       "   target                                               text\n",
       "0       0  Go until jurong point, crazy.. Available only ...\n",
       "1       0                      Ok lar... Joking wif u oni...\n",
       "2       1  Free entry in 2 a wkly comp to win FA Cup fina...\n",
       "3       0  U dun say so early hor... U c already then say...\n",
       "4       0  Nah I don't think he goes to usf, he lives aro..."
      ]
     },
     "execution_count": 28,
     "metadata": {},
     "output_type": "execute_result"
    }
   ],
   "source": [
    "df.head()"
   ]
  },
  {
   "cell_type": "code",
   "execution_count": 29,
   "id": "1ab7d766",
   "metadata": {},
   "outputs": [
    {
     "data": {
      "text/plain": [
       "0    4516\n",
       "1     653\n",
       "Name: target, dtype: int64"
      ]
     },
     "execution_count": 29,
     "metadata": {},
     "output_type": "execute_result"
    }
   ],
   "source": [
    "df['target'].value_counts()"
   ]
  },
  {
   "cell_type": "code",
   "execution_count": 34,
   "id": "d0f774b4",
   "metadata": {},
   "outputs": [
    {
     "data": {
      "image/png": "[encoded data removed]",
      "text/plain": [
       "<Figure size 640x480 with 1 Axes>"
      ]
     },
     "metadata": {},
     "output_type": "display_data"
    }
   ],
   "source": [
    "import matplotlib.pyplot as plt\n",
    "plt.pie(df['target'].value_counts(),labels = ['ham','spam'], autopct ='%0.2f')\n",
    "plt.show()"
   ]
  },
  {
   "cell_type": "code",
   "execution_count": 35,
   "id": "c134a406",
   "metadata": {},
   "outputs": [],
   "source": [
    "# Data is imbalanced"
   ]
  },
  {
   "cell_type": "code",
   "execution_count": 36,
   "id": "d6f61842",
   "metadata": {},
   "outputs": [],
   "source": [
    "import nltk"
   ]
  },
  {
   "cell_type": "code",
   "execution_count": 37,
   "id": "fcb6f2fa",
   "metadata": {},
   "outputs": [
    {
     "name": "stderr",
     "output_type": "stream",
     "text": [
      "[nltk_data] Downloading package punkt to\n",
      "[nltk_data]     C:\\Users\\91858\\AppData\\Roaming\\nltk_data...\n",
      "[nltk_data]   Package punkt is already up-to-date!\n"
     ]
    },
    {
     "data": {
      "text/plain": [
       "True"
      ]
     },
     "execution_count": 37,
     "metadata": {},
     "output_type": "execute_result"
    }
   ],
   "source": [
    "nltk.download('punkt')"
   ]
  },
  {
   "cell_type": "code",
   "execution_count": 40,
   "id": "769a7714",
   "metadata": {},
   "outputs": [
    {
     "name": "stderr",
     "output_type": "stream",
     "text": [
      "C:\\Users\\91858\\AppData\\Local\\Temp\\ipykernel_18340\\83982535.py:1: SettingWithCopyWarning: \n",
      "A value is trying to be set on a copy of a slice from a DataFrame.\n",
      "Try using .loc[row_indexer,col_indexer] = value instead\n",
      "\n",
      "See the caveats in the documentation: https://pandas.pydata.org/pandas-docs/stable/user_guide/indexing.html#returning-a-view-versus-a-copy\n",
      "  df['num_characters'] = df['text'].apply(len)\n"
     ]
    },
    {
     "data": {
      "text/html": [
       "<div>\n",
       "<style scoped>\n",
       "    .dataframe tbody tr th:only-of-type {\n",
       "        vertical-align: middle;\n",
       "    }\n",
       "\n",
       "    .dataframe tbody tr th {\n",
       "        vertical-align: top;\n",
       "    }\n",
       "\n",
       "    .dataframe thead th {\n",
       "        text-align: right;\n",
       "    }\n",
       "</style>\n",
       "<table border=\"1\" class=\"dataframe\">\n",
       "  <thead>\n",
       "    <tr style=\"text-align: right;\">\n",
       "      <th></th>\n",
       "      <th>target</th>\n",
       "      <th>text</th>\n",
       "      <th>num_characters</th>\n",
       "    </tr>\n",
       "  </thead>\n",
       "  <tbody>\n",
       "    <tr>\n",
       "      <th>0</th>\n",
       "      <td>0</td>\n",
       "      <td>Go until jurong point, crazy.. Available only ...</td>\n",
       "      <td>111</td>\n",
       "    </tr>\n",
       "    <tr>\n",
       "      <th>1</th>\n",
       "      <td>0</td>\n",
       "      <td>Ok lar... Joking wif u oni...</td>\n",
       "      <td>29</td>\n",
       "    </tr>\n",
       "    <tr>\n",
       "      <th>2</th>\n",
       "      <td>1</td>\n",
       "      <td>Free entry in 2 a wkly comp to win FA Cup fina...</td>\n",
       "      <td>155</td>\n",
       "    </tr>\n",
       "    <tr>\n",
       "      <th>3</th>\n",
       "      <td>0</td>\n",
       "      <td>U dun say so early hor... U c already then say...</td>\n",
       "      <td>49</td>\n",
       "    </tr>\n",
       "    <tr>\n",
       "      <th>4</th>\n",
       "      <td>0</td>\n",
       "      <td>Nah I don't think he goes to usf, he lives aro...</td>\n",
       "      <td>61</td>\n",
       "    </tr>\n",
       "  </tbody>\n",
       "</table>\n",
       "</div>"
      ],
      "text/plain": [
       "   target                                               text  num_characters\n",
       "0       0  Go until jurong point, crazy.. Available only ...             111\n",
       "1       0                      Ok lar... Joking wif u oni...              29\n",
       "2       1  Free entry in 2 a wkly comp to win FA Cup fina...             155\n",
       "3       0  U dun say so early hor... U c already then say...              49\n",
       "4       0  Nah I don't think he goes to usf, he lives aro...              61"
      ]
     },
     "execution_count": 40,
     "metadata": {},
     "output_type": "execute_result"
    }
   ],
   "source": [
    "df['num_characters'] = df['text'].apply(len)\n",
    "df.head()"
   ]
  },
  {
   "cell_type": "code",
   "execution_count": 41,
   "id": "1d7d0650",
   "metadata": {},
   "outputs": [
    {
     "data": {
      "text/plain": [
       "0       [Go, until, jurong, point, ,, crazy, .., Avail...\n",
       "1                [Ok, lar, ..., Joking, wif, u, oni, ...]\n",
       "2       [Free, entry, in, 2, a, wkly, comp, to, win, F...\n",
       "3       [U, dun, say, so, early, hor, ..., U, c, alrea...\n",
       "4       [Nah, I, do, n't, think, he, goes, to, usf, ,,...\n",
       "                              ...                        \n",
       "5567    [This, is, the, 2nd, time, we, have, tried, 2,...\n",
       "5568     [Will, Ì_, b, going, to, esplanade, fr, home, ?]\n",
       "5569    [Pity, ,, *, was, in, mood, for, that, ., So, ...\n",
       "5570    [The, guy, did, some, bitching, but, I, acted,...\n",
       "5571                  [Rofl, ., Its, true, to, its, name]\n",
       "Name: text, Length: 5169, dtype: object"
      ]
     },
     "execution_count": 41,
     "metadata": {},
     "output_type": "execute_result"
    }
   ],
   "source": [
    "# num of words\n",
    "df['text'].apply(lambda x:nltk.word_tokenize(x))"
   ]
  },
  {
   "cell_type": "code",
   "execution_count": 44,
   "id": "5444a741",
   "metadata": {},
   "outputs": [
    {
     "name": "stderr",
     "output_type": "stream",
     "text": [
      "C:\\Users\\91858\\AppData\\Local\\Temp\\ipykernel_18340\\1296417905.py:1: SettingWithCopyWarning: \n",
      "A value is trying to be set on a copy of a slice from a DataFrame.\n",
      "Try using .loc[row_indexer,col_indexer] = value instead\n",
      "\n",
      "See the caveats in the documentation: https://pandas.pydata.org/pandas-docs/stable/user_guide/indexing.html#returning-a-view-versus-a-copy\n",
      "  df['num_words'] = df['text'].apply(lambda x:len(nltk.word_tokenize(x)))\n"
     ]
    },
    {
     "data": {
      "text/html": [
       "<div>\n",
       "<style scoped>\n",
       "    .dataframe tbody tr th:only-of-type {\n",
       "        vertical-align: middle;\n",
       "    }\n",
       "\n",
       "    .dataframe tbody tr th {\n",
       "        vertical-align: top;\n",
       "    }\n",
       "\n",
       "    .dataframe thead th {\n",
       "        text-align: right;\n",
       "    }\n",
       "</style>\n",
       "<table border=\"1\" class=\"dataframe\">\n",
       "  <thead>\n",
       "    <tr style=\"text-align: right;\">\n",
       "      <th></th>\n",
       "      <th>target</th>\n",
       "      <th>text</th>\n",
       "      <th>num_characters</th>\n",
       "      <th>num_words</th>\n",
       "    </tr>\n",
       "  </thead>\n",
       "  <tbody>\n",
       "    <tr>\n",
       "      <th>0</th>\n",
       "      <td>0</td>\n",
       "      <td>Go until jurong point, crazy.. Available only ...</td>\n",
       "      <td>111</td>\n",
       "      <td>24</td>\n",
       "    </tr>\n",
       "    <tr>\n",
       "      <th>1</th>\n",
       "      <td>0</td>\n",
       "      <td>Ok lar... Joking wif u oni...</td>\n",
       "      <td>29</td>\n",
       "      <td>8</td>\n",
       "    </tr>\n",
       "    <tr>\n",
       "      <th>2</th>\n",
       "      <td>1</td>\n",
       "      <td>Free entry in 2 a wkly comp to win FA Cup fina...</td>\n",
       "      <td>155</td>\n",
       "      <td>37</td>\n",
       "    </tr>\n",
       "    <tr>\n",
       "      <th>3</th>\n",
       "      <td>0</td>\n",
       "      <td>U dun say so early hor... U c already then say...</td>\n",
       "      <td>49</td>\n",
       "      <td>13</td>\n",
       "    </tr>\n",
       "    <tr>\n",
       "      <th>4</th>\n",
       "      <td>0</td>\n",
       "      <td>Nah I don't think he goes to usf, he lives aro...</td>\n",
       "      <td>61</td>\n",
       "      <td>15</td>\n",
       "    </tr>\n",
       "  </tbody>\n",
       "</table>\n",
       "</div>"
      ],
      "text/plain": [
       "   target                                               text  num_characters  \\\n",
       "0       0  Go until jurong point, crazy.. Available only ...             111   \n",
       "1       0                      Ok lar... Joking wif u oni...              29   \n",
       "2       1  Free entry in 2 a wkly comp to win FA Cup fina...             155   \n",
       "3       0  U dun say so early hor... U c already then say...              49   \n",
       "4       0  Nah I don't think he goes to usf, he lives aro...              61   \n",
       "\n",
       "   num_words  \n",
       "0         24  \n",
       "1          8  \n",
       "2         37  \n",
       "3         13  \n",
       "4         15  "
      ]
     },
     "execution_count": 44,
     "metadata": {},
     "output_type": "execute_result"
    }
   ],
   "source": [
    "df['num_words'] = df['text'].apply(lambda x:len(nltk.word_tokenize(x)))\n",
    "df.head()"
   ]
  },
  {
   "cell_type": "code",
   "execution_count": 45,
   "id": "34c013b4",
   "metadata": {},
   "outputs": [
    {
     "name": "stderr",
     "output_type": "stream",
     "text": [
      "C:\\Users\\91858\\AppData\\Local\\Temp\\ipykernel_18340\\4019548161.py:1: SettingWithCopyWarning: \n",
      "A value is trying to be set on a copy of a slice from a DataFrame.\n",
      "Try using .loc[row_indexer,col_indexer] = value instead\n",
      "\n",
      "See the caveats in the documentation: https://pandas.pydata.org/pandas-docs/stable/user_guide/indexing.html#returning-a-view-versus-a-copy\n",
      "  df['num_sent'] = df['text'].apply(lambda x:len(nltk.sent_tokenize(x)))\n"
     ]
    },
    {
     "data": {
      "text/html": [
       "<div>\n",
       "<style scoped>\n",
       "    .dataframe tbody tr th:only-of-type {\n",
       "        vertical-align: middle;\n",
       "    }\n",
       "\n",
       "    .dataframe tbody tr th {\n",
       "        vertical-align: top;\n",
       "    }\n",
       "\n",
       "    .dataframe thead th {\n",
       "        text-align: right;\n",
       "    }\n",
       "</style>\n",
       "<table border=\"1\" class=\"dataframe\">\n",
       "  <thead>\n",
       "    <tr style=\"text-align: right;\">\n",
       "      <th></th>\n",
       "      <th>target</th>\n",
       "      <th>text</th>\n",
       "      <th>num_characters</th>\n",
       "      <th>num_words</th>\n",
       "      <th>num_sent</th>\n",
       "    </tr>\n",
       "  </thead>\n",
       "  <tbody>\n",
       "    <tr>\n",
       "      <th>0</th>\n",
       "      <td>0</td>\n",
       "      <td>Go until jurong point, crazy.. Available only ...</td>\n",
       "      <td>111</td>\n",
       "      <td>24</td>\n",
       "      <td>2</td>\n",
       "    </tr>\n",
       "    <tr>\n",
       "      <th>1</th>\n",
       "      <td>0</td>\n",
       "      <td>Ok lar... Joking wif u oni...</td>\n",
       "      <td>29</td>\n",
       "      <td>8</td>\n",
       "      <td>2</td>\n",
       "    </tr>\n",
       "    <tr>\n",
       "      <th>2</th>\n",
       "      <td>1</td>\n",
       "      <td>Free entry in 2 a wkly comp to win FA Cup fina...</td>\n",
       "      <td>155</td>\n",
       "      <td>37</td>\n",
       "      <td>2</td>\n",
       "    </tr>\n",
       "    <tr>\n",
       "      <th>3</th>\n",
       "      <td>0</td>\n",
       "      <td>U dun say so early hor... U c already then say...</td>\n",
       "      <td>49</td>\n",
       "      <td>13</td>\n",
       "      <td>1</td>\n",
       "    </tr>\n",
       "    <tr>\n",
       "      <th>4</th>\n",
       "      <td>0</td>\n",
       "      <td>Nah I don't think he goes to usf, he lives aro...</td>\n",
       "      <td>61</td>\n",
       "      <td>15</td>\n",
       "      <td>1</td>\n",
       "    </tr>\n",
       "  </tbody>\n",
       "</table>\n",
       "</div>"
      ],
      "text/plain": [
       "   target                                               text  num_characters  \\\n",
       "0       0  Go until jurong point, crazy.. Available only ...             111   \n",
       "1       0                      Ok lar... Joking wif u oni...              29   \n",
       "2       1  Free entry in 2 a wkly comp to win FA Cup fina...             155   \n",
       "3       0  U dun say so early hor... U c already then say...              49   \n",
       "4       0  Nah I don't think he goes to usf, he lives aro...              61   \n",
       "\n",
       "   num_words  num_sent  \n",
       "0         24         2  \n",
       "1          8         2  \n",
       "2         37         2  \n",
       "3         13         1  \n",
       "4         15         1  "
      ]
     },
     "execution_count": 45,
     "metadata": {},
     "output_type": "execute_result"
    }
   ],
   "source": [
    "df['num_sent'] = df['text'].apply(lambda x:len(nltk.sent_tokenize(x)))\n",
    "df.head()"
   ]
  },
  {
   "cell_type": "code",
   "execution_count": 46,
   "id": "5473a619",
   "metadata": {},
   "outputs": [
    {
     "data": {
      "text/html": [
       "<div>\n",
       "<style scoped>\n",
       "    .dataframe tbody tr th:only-of-type {\n",
       "        vertical-align: middle;\n",
       "    }\n",
       "\n",
       "    .dataframe tbody tr th {\n",
       "        vertical-align: top;\n",
       "    }\n",
       "\n",
       "    .dataframe thead th {\n",
       "        text-align: right;\n",
       "    }\n",
       "</style>\n",
       "<table border=\"1\" class=\"dataframe\">\n",
       "  <thead>\n",
       "    <tr style=\"text-align: right;\">\n",
       "      <th></th>\n",
       "      <th>target</th>\n",
       "      <th>num_characters</th>\n",
       "      <th>num_words</th>\n",
       "      <th>num_sent</th>\n",
       "    </tr>\n",
       "  </thead>\n",
       "  <tbody>\n",
       "    <tr>\n",
       "      <th>count</th>\n",
       "      <td>5169.000000</td>\n",
       "      <td>5169.000000</td>\n",
       "      <td>5169.000000</td>\n",
       "      <td>5169.000000</td>\n",
       "    </tr>\n",
       "    <tr>\n",
       "      <th>mean</th>\n",
       "      <td>0.126330</td>\n",
       "      <td>78.977945</td>\n",
       "      <td>18.455794</td>\n",
       "      <td>1.965564</td>\n",
       "    </tr>\n",
       "    <tr>\n",
       "      <th>std</th>\n",
       "      <td>0.332253</td>\n",
       "      <td>58.236293</td>\n",
       "      <td>13.324758</td>\n",
       "      <td>1.448541</td>\n",
       "    </tr>\n",
       "    <tr>\n",
       "      <th>min</th>\n",
       "      <td>0.000000</td>\n",
       "      <td>2.000000</td>\n",
       "      <td>1.000000</td>\n",
       "      <td>1.000000</td>\n",
       "    </tr>\n",
       "    <tr>\n",
       "      <th>25%</th>\n",
       "      <td>0.000000</td>\n",
       "      <td>36.000000</td>\n",
       "      <td>9.000000</td>\n",
       "      <td>1.000000</td>\n",
       "    </tr>\n",
       "    <tr>\n",
       "      <th>50%</th>\n",
       "      <td>0.000000</td>\n",
       "      <td>60.000000</td>\n",
       "      <td>15.000000</td>\n",
       "      <td>1.000000</td>\n",
       "    </tr>\n",
       "    <tr>\n",
       "      <th>75%</th>\n",
       "      <td>0.000000</td>\n",
       "      <td>117.000000</td>\n",
       "      <td>26.000000</td>\n",
       "      <td>2.000000</td>\n",
       "    </tr>\n",
       "    <tr>\n",
       "      <th>max</th>\n",
       "      <td>1.000000</td>\n",
       "      <td>910.000000</td>\n",
       "      <td>220.000000</td>\n",
       "      <td>38.000000</td>\n",
       "    </tr>\n",
       "  </tbody>\n",
       "</table>\n",
       "</div>"
      ],
      "text/plain": [
       "            target  num_characters    num_words     num_sent\n",
       "count  5169.000000     5169.000000  5169.000000  5169.000000\n",
       "mean      0.126330       78.977945    18.455794     1.965564\n",
       "std       0.332253       58.236293    13.324758     1.448541\n",
       "min       0.000000        2.000000     1.000000     1.000000\n",
       "25%       0.000000       36.000000     9.000000     1.000000\n",
       "50%       0.000000       60.000000    15.000000     1.000000\n",
       "75%       0.000000      117.000000    26.000000     2.000000\n",
       "max       1.000000      910.000000   220.000000    38.000000"
      ]
     },
     "execution_count": 46,
     "metadata": {},
     "output_type": "execute_result"
    }
   ],
   "source": [
    "df.describe()"
   ]
  },
  {
   "cell_type": "code",
   "execution_count": 50,
   "id": "da278a97",
   "metadata": {},
   "outputs": [
    {
     "data": {
      "text/html": [
       "<div>\n",
       "<style scoped>\n",
       "    .dataframe tbody tr th:only-of-type {\n",
       "        vertical-align: middle;\n",
       "    }\n",
       "\n",
       "    .dataframe tbody tr th {\n",
       "        vertical-align: top;\n",
       "    }\n",
       "\n",
       "    .dataframe thead th {\n",
       "        text-align: right;\n",
       "    }\n",
       "</style>\n",
       "<table border=\"1\" class=\"dataframe\">\n",
       "  <thead>\n",
       "    <tr style=\"text-align: right;\">\n",
       "      <th></th>\n",
       "      <th>num_characters</th>\n",
       "      <th>num_words</th>\n",
       "      <th>num_sent</th>\n",
       "    </tr>\n",
       "  </thead>\n",
       "  <tbody>\n",
       "    <tr>\n",
       "      <th>count</th>\n",
       "      <td>4516.000000</td>\n",
       "      <td>4516.000000</td>\n",
       "      <td>4516.000000</td>\n",
       "    </tr>\n",
       "    <tr>\n",
       "      <th>mean</th>\n",
       "      <td>70.459256</td>\n",
       "      <td>17.123782</td>\n",
       "      <td>1.820195</td>\n",
       "    </tr>\n",
       "    <tr>\n",
       "      <th>std</th>\n",
       "      <td>56.358207</td>\n",
       "      <td>13.493970</td>\n",
       "      <td>1.383657</td>\n",
       "    </tr>\n",
       "    <tr>\n",
       "      <th>min</th>\n",
       "      <td>2.000000</td>\n",
       "      <td>1.000000</td>\n",
       "      <td>1.000000</td>\n",
       "    </tr>\n",
       "    <tr>\n",
       "      <th>25%</th>\n",
       "      <td>34.000000</td>\n",
       "      <td>8.000000</td>\n",
       "      <td>1.000000</td>\n",
       "    </tr>\n",
       "    <tr>\n",
       "      <th>50%</th>\n",
       "      <td>52.000000</td>\n",
       "      <td>13.000000</td>\n",
       "      <td>1.000000</td>\n",
       "    </tr>\n",
       "    <tr>\n",
       "      <th>75%</th>\n",
       "      <td>90.000000</td>\n",
       "      <td>22.000000</td>\n",
       "      <td>2.000000</td>\n",
       "    </tr>\n",
       "    <tr>\n",
       "      <th>max</th>\n",
       "      <td>910.000000</td>\n",
       "      <td>220.000000</td>\n",
       "      <td>38.000000</td>\n",
       "    </tr>\n",
       "  </tbody>\n",
       "</table>\n",
       "</div>"
      ],
      "text/plain": [
       "       num_characters    num_words     num_sent\n",
       "count     4516.000000  4516.000000  4516.000000\n",
       "mean        70.459256    17.123782     1.820195\n",
       "std         56.358207    13.493970     1.383657\n",
       "min          2.000000     1.000000     1.000000\n",
       "25%         34.000000     8.000000     1.000000\n",
       "50%         52.000000    13.000000     1.000000\n",
       "75%         90.000000    22.000000     2.000000\n",
       "max        910.000000   220.000000    38.000000"
      ]
     },
     "execution_count": 50,
     "metadata": {},
     "output_type": "execute_result"
    }
   ],
   "source": [
    "#ham\n",
    "df[df['target']==0][['num_characters','num_words','num_sent']].describe()"
   ]
  },
  {
   "cell_type": "code",
   "execution_count": 51,
   "id": "9a3d6b56",
   "metadata": {},
   "outputs": [
    {
     "data": {
      "text/html": [
       "<div>\n",
       "<style scoped>\n",
       "    .dataframe tbody tr th:only-of-type {\n",
       "        vertical-align: middle;\n",
       "    }\n",
       "\n",
       "    .dataframe tbody tr th {\n",
       "        vertical-align: top;\n",
       "    }\n",
       "\n",
       "    .dataframe thead th {\n",
       "        text-align: right;\n",
       "    }\n",
       "</style>\n",
       "<table border=\"1\" class=\"dataframe\">\n",
       "  <thead>\n",
       "    <tr style=\"text-align: right;\">\n",
       "      <th></th>\n",
       "      <th>num_characters</th>\n",
       "      <th>num_words</th>\n",
       "      <th>num_sent</th>\n",
       "    </tr>\n",
       "  </thead>\n",
       "  <tbody>\n",
       "    <tr>\n",
       "      <th>count</th>\n",
       "      <td>653.000000</td>\n",
       "      <td>653.000000</td>\n",
       "      <td>653.000000</td>\n",
       "    </tr>\n",
       "    <tr>\n",
       "      <th>mean</th>\n",
       "      <td>137.891271</td>\n",
       "      <td>27.667688</td>\n",
       "      <td>2.970904</td>\n",
       "    </tr>\n",
       "    <tr>\n",
       "      <th>std</th>\n",
       "      <td>30.137753</td>\n",
       "      <td>7.008418</td>\n",
       "      <td>1.488425</td>\n",
       "    </tr>\n",
       "    <tr>\n",
       "      <th>min</th>\n",
       "      <td>13.000000</td>\n",
       "      <td>2.000000</td>\n",
       "      <td>1.000000</td>\n",
       "    </tr>\n",
       "    <tr>\n",
       "      <th>25%</th>\n",
       "      <td>132.000000</td>\n",
       "      <td>25.000000</td>\n",
       "      <td>2.000000</td>\n",
       "    </tr>\n",
       "    <tr>\n",
       "      <th>50%</th>\n",
       "      <td>149.000000</td>\n",
       "      <td>29.000000</td>\n",
       "      <td>3.000000</td>\n",
       "    </tr>\n",
       "    <tr>\n",
       "      <th>75%</th>\n",
       "      <td>157.000000</td>\n",
       "      <td>32.000000</td>\n",
       "      <td>4.000000</td>\n",
       "    </tr>\n",
       "    <tr>\n",
       "      <th>max</th>\n",
       "      <td>224.000000</td>\n",
       "      <td>46.000000</td>\n",
       "      <td>9.000000</td>\n",
       "    </tr>\n",
       "  </tbody>\n",
       "</table>\n",
       "</div>"
      ],
      "text/plain": [
       "       num_characters   num_words    num_sent\n",
       "count      653.000000  653.000000  653.000000\n",
       "mean       137.891271   27.667688    2.970904\n",
       "std         30.137753    7.008418    1.488425\n",
       "min         13.000000    2.000000    1.000000\n",
       "25%        132.000000   25.000000    2.000000\n",
       "50%        149.000000   29.000000    3.000000\n",
       "75%        157.000000   32.000000    4.000000\n",
       "max        224.000000   46.000000    9.000000"
      ]
     },
     "execution_count": 51,
     "metadata": {},
     "output_type": "execute_result"
    }
   ],
   "source": [
    "#spam\n",
    "df[df['target']==1][['num_characters','num_words','num_sent']].describe()"
   ]
  },
  {
   "cell_type": "code",
   "execution_count": 52,
   "id": "00bcbdd4",
   "metadata": {},
   "outputs": [],
   "source": [
    "import seaborn as sns"
   ]
  },
  {
   "cell_type": "code",
   "execution_count": 53,
   "id": "6e7a37c2",
   "metadata": {},
   "outputs": [
    {
     "data": {
      "text/plain": [
       "<Axes: xlabel='num_characters', ylabel='Count'>"
      ]
     },
     "execution_count": 53,
     "metadata": {},
     "output_type": "execute_result"
    },
    {
     "data": {
      "image/png": "[encoded data removed]",
      "text/plain": [
       "<Figure size 640x480 with 1 Axes>"
      ]
     },
     "metadata": {},
     "output_type": "display_data"
    }
   ],
   "source": [
    "sns.histplot(df[df['target']==0]['num_characters'])\n",
    "sns.histplot(df[df['target']==1]['num_characters'],color = 'red')"
   ]
  },
  {
   "cell_type": "code",
   "execution_count": 54,
   "id": "68611db0",
   "metadata": {},
   "outputs": [
    {
     "data": {
      "text/plain": [
       "<Axes: xlabel='num_words', ylabel='Count'>"
      ]
     },
     "execution_count": 54,
     "metadata": {},
     "output_type": "execute_result"
    },
    {
     "data": {
      "image/png": "[encoded data removed]",
      "text/plain": [
       "<Figure size 640x480 with 1 Axes>"
      ]
     },
     "metadata": {},
     "output_type": "display_data"
    }
   ],
   "source": [
    "sns.histplot(df[df['target']==0]['num_words'])\n",
    "sns.histplot(df[df['target']==1]['num_words'],color = 'red')"
   ]
  },
  {
   "cell_type": "code",
   "execution_count": 57,
   "id": "8a253d24",
   "metadata": {},
   "outputs": [
    {
     "name": "stderr",
     "output_type": "stream",
     "text": [
      "C:\\Users\\91858\\AppData\\Local\\Temp\\ipykernel_18340\\1305659618.py:1: FutureWarning: The default value of numeric_only in DataFrame.corr is deprecated. In a future version, it will default to False. Select only valid columns or specify the value of numeric_only to silence this warning.\n",
      "  sns.heatmap(df.corr(),annot= True)\n"
     ]
    },
    {
     "data": {
      "text/plain": [
       "<Axes: >"
      ]
     },
     "execution_count": 57,
     "metadata": {},
     "output_type": "execute_result"
    },
    {
     "data": {
      "image/png": "[encoded data removed]",
      "text/plain": [
       "<Figure size 640x480 with 2 Axes>"
      ]
     },
     "metadata": {},
     "output_type": "display_data"
    }
   ],
   "source": [
    "sns.heatmap(df.corr(),annot= True)"
   ]
  },
  {
   "cell_type": "markdown",
   "id": "6c795e33",
   "metadata": {},
   "source": [
    "#Data Preprocessing"
   ]
  },
  {
   "cell_type": "code",
   "execution_count": 69,
   "id": "dc7e0895",
   "metadata": {},
   "outputs": [],
   "source": [
    "def transform_text(text):\n",
    "    text = text.lower()\n",
    "    text = nltk.word_tokenize(text)\n",
    "    y = []\n",
    "    for i in text:\n",
    "        if i.isalnum():\n",
    "            y.append(i)\n",
    "            \n",
    "    text = y[:]\n",
    "    y.clear()\n",
    "    for i in text:\n",
    "        if i not in stopwords.words('english') and i not in string.punctuation:\n",
    "            y.append(i)\n",
    "    \n",
    "    text = y[:]\n",
    "    y.clear()\n",
    "    \n",
    "    for i in text:\n",
    "        y.append(ps.stem(i))\n",
    "        \n",
    "    return \" \".join(y)"
   ]
  },
  {
   "cell_type": "code",
   "execution_count": 58,
   "id": "c3ac7fad",
   "metadata": {
    "collapsed": true
   },
   "outputs": [
    {
     "data": {
      "text/plain": [
       "['i',\n",
       " 'me',\n",
       " 'my',\n",
       " 'myself',\n",
       " 'we',\n",
       " 'our',\n",
       " 'ours',\n",
       " 'ourselves',\n",
       " 'you',\n",
       " \"you're\",\n",
       " \"you've\",\n",
       " \"you'll\",\n",
       " \"you'd\",\n",
       " 'your',\n",
       " 'yours',\n",
       " 'yourself',\n",
       " 'yourselves',\n",
       " 'he',\n",
       " 'him',\n",
       " 'his',\n",
       " 'himself',\n",
       " 'she',\n",
       " \"she's\",\n",
       " 'her',\n",
       " 'hers',\n",
       " 'herself',\n",
       " 'it',\n",
       " \"it's\",\n",
       " 'its',\n",
       " 'itself',\n",
       " 'they',\n",
       " 'them',\n",
       " 'their',\n",
       " 'theirs',\n",
       " 'themselves',\n",
       " 'what',\n",
       " 'which',\n",
       " 'who',\n",
       " 'whom',\n",
       " 'this',\n",
       " 'that',\n",
       " \"that'll\",\n",
       " 'these',\n",
       " 'those',\n",
       " 'am',\n",
       " 'is',\n",
       " 'are',\n",
       " 'was',\n",
       " 'were',\n",
       " 'be',\n",
       " 'been',\n",
       " 'being',\n",
       " 'have',\n",
       " 'has',\n",
       " 'had',\n",
       " 'having',\n",
       " 'do',\n",
       " 'does',\n",
       " 'did',\n",
       " 'doing',\n",
       " 'a',\n",
       " 'an',\n",
       " 'the',\n",
       " 'and',\n",
       " 'but',\n",
       " 'if',\n",
       " 'or',\n",
       " 'because',\n",
       " 'as',\n",
       " 'until',\n",
       " 'while',\n",
       " 'of',\n",
       " 'at',\n",
       " 'by',\n",
       " 'for',\n",
       " 'with',\n",
       " 'about',\n",
       " 'against',\n",
       " 'between',\n",
       " 'into',\n",
       " 'through',\n",
       " 'during',\n",
       " 'before',\n",
       " 'after',\n",
       " 'above',\n",
       " 'below',\n",
       " 'to',\n",
       " 'from',\n",
       " 'up',\n",
       " 'down',\n",
       " 'in',\n",
       " 'out',\n",
       " 'on',\n",
       " 'off',\n",
       " 'over',\n",
       " 'under',\n",
       " 'again',\n",
       " 'further',\n",
       " 'then',\n",
       " 'once',\n",
       " 'here',\n",
       " 'there',\n",
       " 'when',\n",
       " 'where',\n",
       " 'why',\n",
       " 'how',\n",
       " 'all',\n",
       " 'any',\n",
       " 'both',\n",
       " 'each',\n",
       " 'few',\n",
       " 'more',\n",
       " 'most',\n",
       " 'other',\n",
       " 'some',\n",
       " 'such',\n",
       " 'no',\n",
       " 'nor',\n",
       " 'not',\n",
       " 'only',\n",
       " 'own',\n",
       " 'same',\n",
       " 'so',\n",
       " 'than',\n",
       " 'too',\n",
       " 'very',\n",
       " 's',\n",
       " 't',\n",
       " 'can',\n",
       " 'will',\n",
       " 'just',\n",
       " 'don',\n",
       " \"don't\",\n",
       " 'should',\n",
       " \"should've\",\n",
       " 'now',\n",
       " 'd',\n",
       " 'll',\n",
       " 'm',\n",
       " 'o',\n",
       " 're',\n",
       " 've',\n",
       " 'y',\n",
       " 'ain',\n",
       " 'aren',\n",
       " \"aren't\",\n",
       " 'couldn',\n",
       " \"couldn't\",\n",
       " 'didn',\n",
       " \"didn't\",\n",
       " 'doesn',\n",
       " \"doesn't\",\n",
       " 'hadn',\n",
       " \"hadn't\",\n",
       " 'hasn',\n",
       " \"hasn't\",\n",
       " 'haven',\n",
       " \"haven't\",\n",
       " 'isn',\n",
       " \"isn't\",\n",
       " 'ma',\n",
       " 'mightn',\n",
       " \"mightn't\",\n",
       " 'mustn',\n",
       " \"mustn't\",\n",
       " 'needn',\n",
       " \"needn't\",\n",
       " 'shan',\n",
       " \"shan't\",\n",
       " 'shouldn',\n",
       " \"shouldn't\",\n",
       " 'wasn',\n",
       " \"wasn't\",\n",
       " 'weren',\n",
       " \"weren't\",\n",
       " 'won',\n",
       " \"won't\",\n",
       " 'wouldn',\n",
       " \"wouldn't\"]"
      ]
     },
     "execution_count": 58,
     "metadata": {},
     "output_type": "execute_result"
    }
   ],
   "source": [
    "from nltk.corpus import stopwords\n",
    "stopwords.words('english')"
   ]
  },
  {
   "cell_type": "code",
   "execution_count": 64,
   "id": "5bf6edcb",
   "metadata": {},
   "outputs": [],
   "source": [
    "import string\n",
    "from nltk.stem.porter import PorterStemmer\n",
    "ps = PorterStemmer()\n"
   ]
  },
  {
   "cell_type": "code",
   "execution_count": 70,
   "id": "32b37b2f",
   "metadata": {},
   "outputs": [
    {
     "name": "stderr",
     "output_type": "stream",
     "text": [
      "C:\\Users\\91858\\AppData\\Local\\Temp\\ipykernel_18340\\283536690.py:1: SettingWithCopyWarning: \n",
      "A value is trying to be set on a copy of a slice from a DataFrame.\n",
      "Try using .loc[row_indexer,col_indexer] = value instead\n",
      "\n",
      "See the caveats in the documentation: https://pandas.pydata.org/pandas-docs/stable/user_guide/indexing.html#returning-a-view-versus-a-copy\n",
      "  df['transformed_text'] = df['text'].apply(transform_text)\n"
     ]
    }
   ],
   "source": [
    "df['transformed_text'] = df['text'].apply(transform_text)"
   ]
  },
  {
   "cell_type": "code",
   "execution_count": 71,
   "id": "ace28fec",
   "metadata": {},
   "outputs": [
    {
     "data": {
      "text/html": [
       "<div>\n",
       "<style scoped>\n",
       "    .dataframe tbody tr th:only-of-type {\n",
       "        vertical-align: middle;\n",
       "    }\n",
       "\n",
       "    .dataframe tbody tr th {\n",
       "        vertical-align: top;\n",
       "    }\n",
       "\n",
       "    .dataframe thead th {\n",
       "        text-align: right;\n",
       "    }\n",
       "</style>\n",
       "<table border=\"1\" class=\"dataframe\">\n",
       "  <thead>\n",
       "    <tr style=\"text-align: right;\">\n",
       "      <th></th>\n",
       "      <th>target</th>\n",
       "      <th>text</th>\n",
       "      <th>num_characters</th>\n",
       "      <th>num_words</th>\n",
       "      <th>num_sent</th>\n",
       "      <th>transformed_text</th>\n",
       "    </tr>\n",
       "  </thead>\n",
       "  <tbody>\n",
       "    <tr>\n",
       "      <th>0</th>\n",
       "      <td>0</td>\n",
       "      <td>Go until jurong point, crazy.. Available only ...</td>\n",
       "      <td>111</td>\n",
       "      <td>24</td>\n",
       "      <td>2</td>\n",
       "      <td>go jurong point crazi avail bugi n great world...</td>\n",
       "    </tr>\n",
       "    <tr>\n",
       "      <th>1</th>\n",
       "      <td>0</td>\n",
       "      <td>Ok lar... Joking wif u oni...</td>\n",
       "      <td>29</td>\n",
       "      <td>8</td>\n",
       "      <td>2</td>\n",
       "      <td>ok lar joke wif u oni</td>\n",
       "    </tr>\n",
       "    <tr>\n",
       "      <th>2</th>\n",
       "      <td>1</td>\n",
       "      <td>Free entry in 2 a wkly comp to win FA Cup fina...</td>\n",
       "      <td>155</td>\n",
       "      <td>37</td>\n",
       "      <td>2</td>\n",
       "      <td>free entri 2 wkli comp win fa cup final tkt 21...</td>\n",
       "    </tr>\n",
       "    <tr>\n",
       "      <th>3</th>\n",
       "      <td>0</td>\n",
       "      <td>U dun say so early hor... U c already then say...</td>\n",
       "      <td>49</td>\n",
       "      <td>13</td>\n",
       "      <td>1</td>\n",
       "      <td>u dun say earli hor u c alreadi say</td>\n",
       "    </tr>\n",
       "    <tr>\n",
       "      <th>4</th>\n",
       "      <td>0</td>\n",
       "      <td>Nah I don't think he goes to usf, he lives aro...</td>\n",
       "      <td>61</td>\n",
       "      <td>15</td>\n",
       "      <td>1</td>\n",
       "      <td>nah think goe usf live around though</td>\n",
       "    </tr>\n",
       "  </tbody>\n",
       "</table>\n",
       "</div>"
      ],
      "text/plain": [
       "   target                                               text  num_characters  \\\n",
       "0       0  Go until jurong point, crazy.. Available only ...             111   \n",
       "1       0                      Ok lar... Joking wif u oni...              29   \n",
       "2       1  Free entry in 2 a wkly comp to win FA Cup fina...             155   \n",
       "3       0  U dun say so early hor... U c already then say...              49   \n",
       "4       0  Nah I don't think he goes to usf, he lives aro...              61   \n",
       "\n",
       "   num_words  num_sent                                   transformed_text  \n",
       "0         24         2  go jurong point crazi avail bugi n great world...  \n",
       "1          8         2                              ok lar joke wif u oni  \n",
       "2         37         2  free entri 2 wkli comp win fa cup final tkt 21...  \n",
       "3         13         1                u dun say earli hor u c alreadi say  \n",
       "4         15         1               nah think goe usf live around though  "
      ]
     },
     "execution_count": 71,
     "metadata": {},
     "output_type": "execute_result"
    }
   ],
   "source": [
    "df.head()"
   ]
  },
  {
   "cell_type": "code",
   "execution_count": 79,
   "id": "d296d367",
   "metadata": {
    "collapsed": true
   },
   "outputs": [
    {
     "name": "stdout",
     "output_type": "stream",
     "text": [
      "Requirement already satisfied: wordcloud in c:\\users\\91858\\anaconda3\\lib\\site-packages (1.9.2)\n",
      "Requirement already satisfied: numpy>=1.6.1 in c:\\users\\91858\\anaconda3\\lib\\site-packages (from wordcloud) (1.24.3)\n",
      "Requirement already satisfied: pillow in c:\\users\\91858\\anaconda3\\lib\\site-packages (from wordcloud) (9.4.0)\n",
      "Requirement already satisfied: matplotlib in c:\\users\\91858\\anaconda3\\lib\\site-packages (from wordcloud) (3.7.1)\n",
      "Requirement already satisfied: contourpy>=1.0.1 in c:\\users\\91858\\anaconda3\\lib\\site-packages (from matplotlib->wordcloud) (1.0.5)\n",
      "Requirement already satisfied: cycler>=0.10 in c:\\users\\91858\\anaconda3\\lib\\site-packages (from matplotlib->wordcloud) (0.11.0)\n",
      "Requirement already satisfied: fonttools>=4.22.0 in c:\\users\\91858\\anaconda3\\lib\\site-packages (from matplotlib->wordcloud) (4.25.0)\n",
      "Requirement already satisfied: kiwisolver>=1.0.1 in c:\\users\\91858\\anaconda3\\lib\\site-packages (from matplotlib->wordcloud) (1.4.4)\n",
      "Requirement already satisfied: packaging>=20.0 in c:\\users\\91858\\anaconda3\\lib\\site-packages (from matplotlib->wordcloud) (23.0)\n",
      "Requirement already satisfied: pyparsing>=2.3.1 in c:\\users\\91858\\anaconda3\\lib\\site-packages (from matplotlib->wordcloud) (3.0.9)\n",
      "Requirement already satisfied: python-dateutil>=2.7 in c:\\users\\91858\\anaconda3\\lib\\site-packages (from matplotlib->wordcloud) (2.8.2)\n",
      "Requirement already satisfied: six>=1.5 in c:\\users\\91858\\anaconda3\\lib\\site-packages (from python-dateutil>=2.7->matplotlib->wordcloud) (1.16.0)\n"
     ]
    }
   ],
   "source": [
    "#word cloud\n",
    "!pip install wordcloud\n",
    "from wordcloud import WordCloud\n",
    "wc = WordCloud(width=500,height=500,min_font_size=10,background_color ='white')"
   ]
  },
  {
   "cell_type": "code",
   "execution_count": 80,
   "id": "76e4a94a",
   "metadata": {},
   "outputs": [],
   "source": [
    "spam_wc = wc.generate(df[df['target']==1]['transformed_text'].str.cat(sep=\" \"))"
   ]
  },
  {
   "cell_type": "code",
   "execution_count": 81,
   "id": "31581a92",
   "metadata": {},
   "outputs": [
    {
     "data": {
      "text/plain": [
       "<matplotlib.image.AxesImage at 0x19002a17750>"
      ]
     },
     "execution_count": 81,
     "metadata": {},
     "output_type": "execute_result"
    },
    {
     "data": {
      "image/png": "[encoded data removed]",
      "text/plain": [
       "<Figure size 640x480 with 1 Axes>"
      ]
     },
     "metadata": {},
     "output_type": "display_data"
    }
   ],
   "source": [
    "plt.imshow(spam_wc)"
   ]
  },
  {
   "cell_type": "code",
   "execution_count": 83,
   "id": "9d5d7c7a",
   "metadata": {},
   "outputs": [
    {
     "data": {
      "text/plain": [
       "<matplotlib.image.AxesImage at 0x19002a51f10>"
      ]
     },
     "execution_count": 83,
     "metadata": {},
     "output_type": "execute_result"
    },
    {
     "data": {
      "image/png": "[encoded data removed]",
      "text/plain": [
       "<Figure size 640x480 with 1 Axes>"
      ]
     },
     "metadata": {},
     "output_type": "display_data"
    }
   ],
   "source": [
    "ham_wc = wc.generate(df[df['target']==0]['transformed_text'].str.cat(sep=\" \"))\n",
    "plt.imshow(ham_wc)"
   ]
  },
  {
   "cell_type": "markdown",
   "id": "2812c690",
   "metadata": {},
   "source": [
    "#Top 30 words"
   ]
  },
  {
   "cell_type": "code",
   "execution_count": 84,
   "id": "b938b175",
   "metadata": {},
   "outputs": [
    {
     "data": {
      "text/html": [
       "<div>\n",
       "<style scoped>\n",
       "    .dataframe tbody tr th:only-of-type {\n",
       "        vertical-align: middle;\n",
       "    }\n",
       "\n",
       "    .dataframe tbody tr th {\n",
       "        vertical-align: top;\n",
       "    }\n",
       "\n",
       "    .dataframe thead th {\n",
       "        text-align: right;\n",
       "    }\n",
       "</style>\n",
       "<table border=\"1\" class=\"dataframe\">\n",
       "  <thead>\n",
       "    <tr style=\"text-align: right;\">\n",
       "      <th></th>\n",
       "      <th>target</th>\n",
       "      <th>text</th>\n",
       "      <th>num_characters</th>\n",
       "      <th>num_words</th>\n",
       "      <th>num_sent</th>\n",
       "      <th>transformed_text</th>\n",
       "    </tr>\n",
       "  </thead>\n",
       "  <tbody>\n",
       "    <tr>\n",
       "      <th>0</th>\n",
       "      <td>0</td>\n",
       "      <td>Go until jurong point, crazy.. Available only ...</td>\n",
       "      <td>111</td>\n",
       "      <td>24</td>\n",
       "      <td>2</td>\n",
       "      <td>go jurong point crazi avail bugi n great world...</td>\n",
       "    </tr>\n",
       "    <tr>\n",
       "      <th>1</th>\n",
       "      <td>0</td>\n",
       "      <td>Ok lar... Joking wif u oni...</td>\n",
       "      <td>29</td>\n",
       "      <td>8</td>\n",
       "      <td>2</td>\n",
       "      <td>ok lar joke wif u oni</td>\n",
       "    </tr>\n",
       "    <tr>\n",
       "      <th>2</th>\n",
       "      <td>1</td>\n",
       "      <td>Free entry in 2 a wkly comp to win FA Cup fina...</td>\n",
       "      <td>155</td>\n",
       "      <td>37</td>\n",
       "      <td>2</td>\n",
       "      <td>free entri 2 wkli comp win fa cup final tkt 21...</td>\n",
       "    </tr>\n",
       "    <tr>\n",
       "      <th>3</th>\n",
       "      <td>0</td>\n",
       "      <td>U dun say so early hor... U c already then say...</td>\n",
       "      <td>49</td>\n",
       "      <td>13</td>\n",
       "      <td>1</td>\n",
       "      <td>u dun say earli hor u c alreadi say</td>\n",
       "    </tr>\n",
       "    <tr>\n",
       "      <th>4</th>\n",
       "      <td>0</td>\n",
       "      <td>Nah I don't think he goes to usf, he lives aro...</td>\n",
       "      <td>61</td>\n",
       "      <td>15</td>\n",
       "      <td>1</td>\n",
       "      <td>nah think goe usf live around though</td>\n",
       "    </tr>\n",
       "  </tbody>\n",
       "</table>\n",
       "</div>"
      ],
      "text/plain": [
       "   target                                               text  num_characters  \\\n",
       "0       0  Go until jurong point, crazy.. Available only ...             111   \n",
       "1       0                      Ok lar... Joking wif u oni...              29   \n",
       "2       1  Free entry in 2 a wkly comp to win FA Cup fina...             155   \n",
       "3       0  U dun say so early hor... U c already then say...              49   \n",
       "4       0  Nah I don't think he goes to usf, he lives aro...              61   \n",
       "\n",
       "   num_words  num_sent                                   transformed_text  \n",
       "0         24         2  go jurong point crazi avail bugi n great world...  \n",
       "1          8         2                              ok lar joke wif u oni  \n",
       "2         37         2  free entri 2 wkli comp win fa cup final tkt 21...  \n",
       "3         13         1                u dun say earli hor u c alreadi say  \n",
       "4         15         1               nah think goe usf live around though  "
      ]
     },
     "execution_count": 84,
     "metadata": {},
     "output_type": "execute_result"
    }
   ],
   "source": [
    "df.head()"
   ]
  },
  {
   "cell_type": "code",
   "execution_count": 87,
   "id": "59ac916f",
   "metadata": {},
   "outputs": [],
   "source": [
    "spam_corpus = []\n",
    "for msg in df[df['target']==1]['transformed_text'].tolist():\n",
    "    for word in msg.split():\n",
    "        spam_corpus.append(word)"
   ]
  },
  {
   "cell_type": "code",
   "execution_count": 88,
   "id": "834c053b",
   "metadata": {},
   "outputs": [
    {
     "data": {
      "text/plain": [
       "9939"
      ]
     },
     "execution_count": 88,
     "metadata": {},
     "output_type": "execute_result"
    }
   ],
   "source": [
    "len(spam_corpus)"
   ]
  },
  {
   "cell_type": "code",
   "execution_count": 89,
   "id": "5aca74f5",
   "metadata": {},
   "outputs": [],
   "source": [
    "from collections import Counter"
   ]
  },
  {
   "cell_type": "code",
   "execution_count": 133,
   "id": "f3f6dc58",
   "metadata": {},
   "outputs": [
    {
     "data": {
      "image/png": "[encoded data removed]",
      "text/plain": [
       "<Figure size 800x600 with 1 Axes>"
      ]
     },
     "metadata": {},
     "output_type": "display_data"
    }
   ],
   "source": [
    "df_count = pd.DataFrame(Counter(spam_corpus).most_common(30), columns=['Word', 'Count'])\n",
    "\n",
    "# Create a barplot using Seaborn\n",
    "plt.figure(figsize=(8, 6))\n",
    "sns.barplot(data=df_count, x='Word', y='Count')\n",
    "plt.xticks(rotation=90)  # Rotate x-axis labels for readability\n",
    "plt.xlabel('Words')\n",
    "plt.ylabel('Counts')\n",
    "plt.title('Most Common Words in Spam Corpus')\n",
    "plt.show()\n"
   ]
  },
  {
   "cell_type": "code",
   "execution_count": 135,
   "id": "603ae9e2",
   "metadata": {},
   "outputs": [],
   "source": [
    "ham_corpus = []\n",
    "for msg in df[df['target']==0]['transformed_text'].tolist():\n",
    "    for word in msg.split():\n",
    "        ham_corpus.append(word)"
   ]
  },
  {
   "cell_type": "code",
   "execution_count": 137,
   "id": "c46fd921",
   "metadata": {},
   "outputs": [
    {
     "data": {
      "image/png": "[encoded data removed]",
      "text/plain": [
       "<Figure size 800x400 with 1 Axes>"
      ]
     },
     "metadata": {},
     "output_type": "display_data"
    }
   ],
   "source": [
    "df_count_ham = pd.DataFrame(Counter(ham_corpus).most_common(30), columns=['Word', 'Count'])\n",
    "\n",
    "# Create a barplot using Seaborn\n",
    "plt.figure(figsize=(8, 4))\n",
    "sns.barplot(data=df_count_ham, x='Word', y='Count')\n",
    "plt.xticks(rotation=90)  # Rotate x-axis labels for readability\n",
    "plt.xlabel('Words')\n",
    "plt.ylabel('Counts')\n",
    "plt.title('Most Common Words in ham Corpus')\n",
    "plt.show()"
   ]
  },
  {
   "cell_type": "markdown",
   "id": "4cd7464f",
   "metadata": {},
   "source": [
    "MODEL BUILDING"
   ]
  },
  {
   "cell_type": "code",
   "execution_count": 138,
   "id": "694180f4",
   "metadata": {},
   "outputs": [],
   "source": [
    "from sklearn.feature_extraction.text import CountVectorizer,TfidfVectorizer\n",
    "cv = CountVectorizer()"
   ]
  },
  {
   "cell_type": "code",
   "execution_count": 141,
   "id": "3d6d36a2",
   "metadata": {},
   "outputs": [],
   "source": [
    "X = cv.fit_transform(df['transformed_text']).toarray()"
   ]
  },
  {
   "cell_type": "code",
   "execution_count": 143,
   "id": "b948e097",
   "metadata": {},
   "outputs": [
    {
     "data": {
      "text/plain": [
       "(5169, 6708)"
      ]
     },
     "execution_count": 143,
     "metadata": {},
     "output_type": "execute_result"
    }
   ],
   "source": [
    "X.shape"
   ]
  },
  {
   "cell_type": "code",
   "execution_count": 148,
   "id": "4d3baf80",
   "metadata": {},
   "outputs": [],
   "source": [
    "y = df['target'].values"
   ]
  },
  {
   "cell_type": "code",
   "execution_count": 149,
   "id": "20411300",
   "metadata": {},
   "outputs": [
    {
     "data": {
      "text/plain": [
       "array([0, 0, 1, ..., 0, 0, 0], dtype=int64)"
      ]
     },
     "execution_count": 149,
     "metadata": {},
     "output_type": "execute_result"
    }
   ],
   "source": [
    "y"
   ]
  },
  {
   "cell_type": "code",
   "execution_count": 150,
   "id": "52eba509",
   "metadata": {},
   "outputs": [],
   "source": [
    "from sklearn.model_selection import train_test_split"
   ]
  },
  {
   "cell_type": "code",
   "execution_count": 151,
   "id": "f917b2c6",
   "metadata": {},
   "outputs": [],
   "source": [
    "X_train,X_test,y_train,y_test = train_test_split(X,y,test_size =0.2,random_state =2)\n"
   ]
  },
  {
   "cell_type": "code",
   "execution_count": 155,
   "id": "59e92367",
   "metadata": {},
   "outputs": [],
   "source": [
    "from sklearn.naive_bayes import GaussianNB,MultinomialNB,BernoulliNB\n",
    "from sklearn.metrics import accuracy_score,confusion_matrix,precision_score"
   ]
  },
  {
   "cell_type": "code",
   "execution_count": 153,
   "id": "806ec9f4",
   "metadata": {},
   "outputs": [],
   "source": [
    "gnb = GaussianNB()\n",
    "mnb = MultinomialNB()\n",
    "bnb = BernoulliNB()"
   ]
  },
  {
   "cell_type": "code",
   "execution_count": 154,
   "id": "8e09a93e",
   "metadata": {},
   "outputs": [
    {
     "data": {
      "text/html": [
       "<style>#sk-container-id-1 {color: black;}#sk-container-id-1 pre{padding: 0;}#sk-container-id-1 div.sk-toggleable {background-color: white;}#sk-container-id-1 label.sk-toggleable__label {cursor: pointer;display: block;width: 100%;margin-bottom: 0;padding: 0.3em;box-sizing: border-box;text-align: center;}#sk-container-id-1 label.sk-toggleable__label-arrow:before {content: \"▸\";float: left;margin-right: 0.25em;color: #696969;}#sk-container-id-1 label.sk-toggleable__label-arrow:hover:before {color: black;}#sk-container-id-1 div.sk-estimator:hover label.sk-toggleable__label-arrow:before {color: black;}#sk-container-id-1 div.sk-toggleable__content {max-height: 0;max-width: 0;overflow: hidden;text-align: left;background-color: #f0f8ff;}#sk-container-id-1 div.sk-toggleable__content pre {margin: 0.2em;color: black;border-radius: 0.25em;background-color: #f0f8ff;}#sk-container-id-1 input.sk-toggleable__control:checked~div.sk-toggleable__content {max-height: 200px;max-width: 100%;overflow: auto;}#sk-container-id-1 input.sk-toggleable__control:checked~label.sk-toggleable__label-arrow:before {content: \"▾\";}#sk-container-id-1 div.sk-estimator input.sk-toggleable__control:checked~label.sk-toggleable__label {background-color: #d4ebff;}#sk-container-id-1 div.sk-label input.sk-toggleable__control:checked~label.sk-toggleable__label {background-color: #d4ebff;}#sk-container-id-1 input.sk-hidden--visually {border: 0;clip: rect(1px 1px 1px 1px);clip: rect(1px, 1px, 1px, 1px);height: 1px;margin: -1px;overflow: hidden;padding: 0;position: absolute;width: 1px;}#sk-container-id-1 div.sk-estimator {font-family: monospace;background-color: #f0f8ff;border: 1px dotted black;border-radius: 0.25em;box-sizing: border-box;margin-bottom: 0.5em;}#sk-container-id-1 div.sk-estimator:hover {background-color: #d4ebff;}#sk-container-id-1 div.sk-parallel-item::after {content: \"\";width: 100%;border-bottom: 1px solid gray;flex-grow: 1;}#sk-container-id-1 div.sk-label:hover label.sk-toggleable__label {background-color: #d4ebff;}#sk-container-id-1 div.sk-serial::before {content: \"\";position: absolute;border-left: 1px solid gray;box-sizing: border-box;top: 0;bottom: 0;left: 50%;z-index: 0;}#sk-container-id-1 div.sk-serial {display: flex;flex-direction: column;align-items: center;background-color: white;padding-right: 0.2em;padding-left: 0.2em;position: relative;}#sk-container-id-1 div.sk-item {position: relative;z-index: 1;}#sk-container-id-1 div.sk-parallel {display: flex;align-items: stretch;justify-content: center;background-color: white;position: relative;}#sk-container-id-1 div.sk-item::before, #sk-container-id-1 div.sk-parallel-item::before {content: \"\";position: absolute;border-left: 1px solid gray;box-sizing: border-box;top: 0;bottom: 0;left: 50%;z-index: -1;}#sk-container-id-1 div.sk-parallel-item {display: flex;flex-direction: column;z-index: 1;position: relative;background-color: white;}#sk-container-id-1 div.sk-parallel-item:first-child::after {align-self: flex-end;width: 50%;}#sk-container-id-1 div.sk-parallel-item:last-child::after {align-self: flex-start;width: 50%;}#sk-container-id-1 div.sk-parallel-item:only-child::after {width: 0;}#sk-container-id-1 div.sk-dashed-wrapped {border: 1px dashed gray;margin: 0 0.4em 0.5em 0.4em;box-sizing: border-box;padding-bottom: 0.4em;background-color: white;}#sk-container-id-1 div.sk-label label {font-family: monospace;font-weight: bold;display: inline-block;line-height: 1.2em;}#sk-container-id-1 div.sk-label-container {text-align: center;}#sk-container-id-1 div.sk-container {/* jupyter's `normalize.less` sets `[hidden] { display: none; }` but bootstrap.min.css set `[hidden] { display: none !important; }` so we also need the `!important` here to be able to override the default hidden behavior on the sphinx rendered scikit-learn.org. See: https://github.com/scikit-learn/scikit-learn/issues/21755 */display: inline-block !important;position: relative;}#sk-container-id-1 div.sk-text-repr-fallback {display: none;}</style><div id=\"sk-container-id-1\" class=\"sk-top-container\"><div class=\"sk-text-repr-fallback\"><pre>GaussianNB()</pre><b>In a Jupyter environment, please rerun this cell to show the HTML representation or trust the notebook. <br />On GitHub, the HTML representation is unable to render, please try loading this page with nbviewer.org.</b></div><div class=\"sk-container\" hidden><div class=\"sk-item\"><div class=\"sk-estimator sk-toggleable\"><input class=\"sk-toggleable__control sk-hidden--visually\" id=\"sk-estimator-id-1\" type=\"checkbox\" checked><label for=\"sk-estimator-id-1\" class=\"sk-toggleable__label sk-toggleable__label-arrow\">GaussianNB</label><div class=\"sk-toggleable__content\"><pre>GaussianNB()</pre></div></div></div></div></div>"
      ],
      "text/plain": [
       "GaussianNB()"
      ]
     },
     "execution_count": 154,
     "metadata": {},
     "output_type": "execute_result"
    }
   ],
   "source": [
    "gnb.fit(X_train,y_train)"
   ]
  },
  {
   "cell_type": "code",
   "execution_count": 157,
   "id": "212b4fc8",
   "metadata": {},
   "outputs": [
    {
     "name": "stdout",
     "output_type": "stream",
     "text": [
      "0.8800773694390716\n",
      "[[792 104]\n",
      " [ 20 118]]\n",
      "0.5315315315315315\n"
     ]
    }
   ],
   "source": [
    "y_pred1 = gnb.predict(X_test)\n",
    "print(accuracy_score(y_test,y_pred1))\n",
    "print(confusion_matrix(y_test,y_pred1))\n",
    "print(precision_score(y_test,y_pred1))"
   ]
  },
  {
   "cell_type": "code",
   "execution_count": 158,
   "id": "be34db6a",
   "metadata": {},
   "outputs": [
    {
     "name": "stdout",
     "output_type": "stream",
     "text": [
      "0.9642166344294004\n",
      "[[871  25]\n",
      " [ 12 126]]\n",
      "0.8344370860927153\n"
     ]
    }
   ],
   "source": [
    "mnb.fit(X_train,y_train)\n",
    "y_pred2 = mnb.predict(X_test)\n",
    "print(accuracy_score(y_test,y_pred2))\n",
    "print(confusion_matrix(y_test,y_pred2))\n",
    "print(precision_score(y_test,y_pred2))"
   ]
  },
  {
   "cell_type": "code",
   "execution_count": 159,
   "id": "e701e0c8",
   "metadata": {},
   "outputs": [
    {
     "name": "stdout",
     "output_type": "stream",
     "text": [
      "0.9700193423597679\n",
      "[[893   3]\n",
      " [ 28 110]]\n",
      "0.9734513274336283\n"
     ]
    }
   ],
   "source": [
    "bnb.fit(X_train,y_train)\n",
    "y_pred3 = bnb.predict(X_test)\n",
    "print(accuracy_score(y_test,y_pred3))\n",
    "print(confusion_matrix(y_test,y_pred3))\n",
    "print(precision_score(y_test,y_pred3))"
   ]
  },
  {
   "cell_type": "code",
   "execution_count": 165,
   "id": "597c3561",
   "metadata": {},
   "outputs": [],
   "source": [
    "# Lets use Tfidf"
   ]
  },
  {
   "cell_type": "code",
   "execution_count": 166,
   "id": "1dab8a48",
   "metadata": {},
   "outputs": [],
   "source": [
    "from sklearn.feature_extraction.text import TfidfVectorizer\n",
    "tfidf = TfidfVectorizer()"
   ]
  },
  {
   "cell_type": "code",
   "execution_count": 167,
   "id": "1471eda7",
   "metadata": {},
   "outputs": [],
   "source": [
    "X = tfidf.fit_transform(df['transformed_text']).toarray()\n",
    "y = df['target'].values"
   ]
  },
  {
   "cell_type": "code",
   "execution_count": 168,
   "id": "7e0478b5",
   "metadata": {},
   "outputs": [],
   "source": [
    "X_train,X_test,y_train,y_test = train_test_split(X,y,test_size =0.2,random_state =2)"
   ]
  },
  {
   "cell_type": "code",
   "execution_count": 169,
   "id": "704bafcf",
   "metadata": {},
   "outputs": [],
   "source": [
    "gnb = GaussianNB()\n",
    "mnb = MultinomialNB()\n",
    "bnb = BernoulliNB()"
   ]
  },
  {
   "cell_type": "code",
   "execution_count": 170,
   "id": "43f58f2f",
   "metadata": {},
   "outputs": [
    {
     "name": "stdout",
     "output_type": "stream",
     "text": [
      "0.8762088974854932\n",
      "[[793 103]\n",
      " [ 25 113]]\n",
      "0.5231481481481481\n"
     ]
    }
   ],
   "source": [
    "gnb.fit(X_train,y_train)\n",
    "y_pred1 = gnb.predict(X_test)\n",
    "print(accuracy_score(y_test,y_pred1))\n",
    "print(confusion_matrix(y_test,y_pred1))\n",
    "print(precision_score(y_test,y_pred1))"
   ]
  },
  {
   "cell_type": "code",
   "execution_count": 171,
   "id": "1d072ea7",
   "metadata": {},
   "outputs": [
    {
     "name": "stdout",
     "output_type": "stream",
     "text": [
      "0.9593810444874274\n",
      "[[896   0]\n",
      " [ 42  96]]\n",
      "1.0\n"
     ]
    }
   ],
   "source": [
    "mnb.fit(X_train,y_train)\n",
    "y_pred2 = mnb.predict(X_test)\n",
    "print(accuracy_score(y_test,y_pred2))\n",
    "print(confusion_matrix(y_test,y_pred2))\n",
    "print(precision_score(y_test,y_pred2))"
   ]
  },
  {
   "cell_type": "code",
   "execution_count": 172,
   "id": "c8a1d8d8",
   "metadata": {},
   "outputs": [
    {
     "name": "stdout",
     "output_type": "stream",
     "text": [
      "0.9700193423597679\n",
      "[[893   3]\n",
      " [ 28 110]]\n",
      "0.9734513274336283\n"
     ]
    }
   ],
   "source": [
    "bnb.fit(X_train,y_train)\n",
    "y_pred3 = bnb.predict(X_test)\n",
    "print(accuracy_score(y_test,y_pred3))\n",
    "print(confusion_matrix(y_test,y_pred3))\n",
    "print(precision_score(y_test,y_pred3))"
   ]
  },
  {
   "cell_type": "code",
   "execution_count": 173,
   "id": "b08458c7",
   "metadata": {},
   "outputs": [],
   "source": [
    "#choosed tfidf mnb"
   ]
  },
  {
   "cell_type": "code",
   "execution_count": 175,
   "id": "f477c392",
   "metadata": {
    "collapsed": true
   },
   "outputs": [
    {
     "name": "stdout",
     "output_type": "stream",
     "text": [
      "Collecting xgboost\n",
      "  Obtaining dependency information for xgboost from https://files.pythonhosted.org/packages/32/10/4689bda37403f7dd029d550c4446e0097c2f33b8ae877b235e76d5c49bc2/xgboost-2.0.0-py3-none-win_amd64.whl.metadata\n",
      "  Downloading xgboost-2.0.0-py3-none-win_amd64.whl.metadata (2.0 kB)\n",
      "Requirement already satisfied: numpy in c:\\users\\91858\\anaconda3\\lib\\site-packages (from xgboost) (1.24.3)\n",
      "Requirement already satisfied: scipy in c:\\users\\91858\\anaconda3\\lib\\site-packages (from xgboost) (1.10.1)\n",
      "Downloading xgboost-2.0.0-py3-none-win_amd64.whl (99.7 MB)\n",
      "   ---------------------------------------- 0.0/99.7 MB ? eta -:--:--\n",
      "   ---------------------------------------- 0.5/99.7 MB 16.5 MB/s eta 0:00:07\n",
      "   ---------------------------------------- 1.2/99.7 MB 24.6 MB/s eta 0:00:05\n",
      "    --------------------------------------- 1.9/99.7 MB 17.2 MB/s eta 0:00:06\n",
      "    --------------------------------------- 2.2/99.7 MB 12.8 MB/s eta 0:00:08\n",
      "   - -------------------------------------- 2.6/99.7 MB 10.9 MB/s eta 0:00:09\n",
      "   - -------------------------------------- 2.8/99.7 MB 9.8 MB/s eta 0:00:10\n",
      "   - -------------------------------------- 2.9/99.7 MB 9.7 MB/s eta 0:00:11\n",
      "   - -------------------------------------- 2.9/99.7 MB 9.7 MB/s eta 0:00:11\n",
      "   - -------------------------------------- 2.9/99.7 MB 9.7 MB/s eta 0:00:11\n",
      "   - -------------------------------------- 2.9/99.7 MB 9.7 MB/s eta 0:00:11\n",
      "   - -------------------------------------- 2.9/99.7 MB 5.4 MB/s eta 0:00:18\n",
      "   - -------------------------------------- 3.2/99.7 MB 5.5 MB/s eta 0:00:18\n",
      "   - -------------------------------------- 4.3/99.7 MB 6.9 MB/s eta 0:00:14\n",
      "   - -------------------------------------- 4.3/99.7 MB 6.9 MB/s eta 0:00:14\n",
      "   - -------------------------------------- 4.3/99.7 MB 6.9 MB/s eta 0:00:14\n",
      "   - -------------------------------------- 4.3/99.7 MB 6.9 MB/s eta 0:00:14\n",
      "   - -------------------------------------- 4.3/99.7 MB 6.9 MB/s eta 0:00:14\n",
      "   - -------------------------------------- 4.3/99.7 MB 6.9 MB/s eta 0:00:14\n",
      "   - -------------------------------------- 4.7/99.7 MB 5.2 MB/s eta 0:00:19\n",
      "   -- ------------------------------------- 5.8/99.7 MB 6.0 MB/s eta 0:00:16\n",
      "   -- ------------------------------------- 6.3/99.7 MB 6.3 MB/s eta 0:00:15\n",
      "   -- ------------------------------------- 6.3/99.7 MB 6.3 MB/s eta 0:00:15\n",
      "   -- ------------------------------------- 6.3/99.7 MB 6.3 MB/s eta 0:00:15\n",
      "   -- ------------------------------------- 6.3/99.7 MB 6.3 MB/s eta 0:00:15\n",
      "   -- ------------------------------------- 6.3/99.7 MB 6.3 MB/s eta 0:00:15\n",
      "   -- ------------------------------------- 6.5/99.7 MB 5.2 MB/s eta 0:00:18\n",
      "   -- ------------------------------------- 7.0/99.7 MB 5.4 MB/s eta 0:00:18\n",
      "   --- ------------------------------------ 7.8/99.7 MB 5.8 MB/s eta 0:00:16\n",
      "   --- ------------------------------------ 8.4/99.7 MB 6.1 MB/s eta 0:00:16\n",
      "   --- ------------------------------------ 8.4/99.7 MB 6.1 MB/s eta 0:00:16\n",
      "   --- ------------------------------------ 8.4/99.7 MB 6.1 MB/s eta 0:00:16\n",
      "   --- ------------------------------------ 8.8/99.7 MB 5.7 MB/s eta 0:00:16\n",
      "   --- ------------------------------------ 9.2/99.7 MB 5.8 MB/s eta 0:00:16\n",
      "   --- ------------------------------------ 9.2/99.7 MB 5.8 MB/s eta 0:00:16\n",
      "   --- ------------------------------------ 9.2/99.7 MB 5.8 MB/s eta 0:00:16\n",
      "   --- ------------------------------------ 9.2/99.7 MB 5.8 MB/s eta 0:00:16\n",
      "   --- ------------------------------------ 9.7/99.7 MB 5.4 MB/s eta 0:00:17\n",
      "   ---- ----------------------------------- 10.1/99.7 MB 5.5 MB/s eta 0:00:17\n",
      "   ---- ----------------------------------- 10.3/99.7 MB 5.5 MB/s eta 0:00:17\n",
      "   ---- ----------------------------------- 10.4/99.7 MB 5.3 MB/s eta 0:00:17\n",
      "   ---- ----------------------------------- 10.6/99.7 MB 5.2 MB/s eta 0:00:18\n",
      "   ---- ----------------------------------- 10.8/99.7 MB 5.1 MB/s eta 0:00:18\n",
      "   ---- ----------------------------------- 10.8/99.7 MB 5.1 MB/s eta 0:00:18\n",
      "   ---- ----------------------------------- 10.9/99.7 MB 4.9 MB/s eta 0:00:19\n",
      "   ---- ----------------------------------- 11.2/99.7 MB 4.7 MB/s eta 0:00:19\n",
      "   ---- ----------------------------------- 11.4/99.7 MB 4.7 MB/s eta 0:00:19\n",
      "   ---- ----------------------------------- 11.4/99.7 MB 4.6 MB/s eta 0:00:20\n",
      "   ---- ----------------------------------- 11.7/99.7 MB 4.5 MB/s eta 0:00:20\n",
      "   ---- ----------------------------------- 12.0/99.7 MB 4.5 MB/s eta 0:00:20\n",
      "   ---- ----------------------------------- 12.1/99.7 MB 4.4 MB/s eta 0:00:20\n",
      "   ---- ----------------------------------- 12.3/99.7 MB 4.3 MB/s eta 0:00:21\n",
      "   ----- ---------------------------------- 12.5/99.7 MB 4.3 MB/s eta 0:00:21\n",
      "   ----- ---------------------------------- 12.7/99.7 MB 4.3 MB/s eta 0:00:21\n",
      "   ----- ---------------------------------- 12.7/99.7 MB 4.3 MB/s eta 0:00:21\n",
      "   ----- ---------------------------------- 13.0/99.7 MB 4.3 MB/s eta 0:00:21\n",
      "   ----- ---------------------------------- 13.4/99.7 MB 4.7 MB/s eta 0:00:19\n",
      "   ----- ---------------------------------- 13.5/99.7 MB 4.7 MB/s eta 0:00:19\n",
      "   ----- ---------------------------------- 13.8/99.7 MB 4.5 MB/s eta 0:00:19\n",
      "   ----- ---------------------------------- 14.1/99.7 MB 4.5 MB/s eta 0:00:20\n",
      "   ----- ---------------------------------- 14.1/99.7 MB 4.5 MB/s eta 0:00:20\n",
      "   ----- ---------------------------------- 14.1/99.7 MB 4.5 MB/s eta 0:00:20\n",
      "   ----- ---------------------------------- 14.2/99.7 MB 4.2 MB/s eta 0:00:21\n",
      "   ----- ---------------------------------- 14.2/99.7 MB 4.2 MB/s eta 0:00:21\n",
      "   ----- ---------------------------------- 14.2/99.7 MB 4.2 MB/s eta 0:00:21\n",
      "   ----- ---------------------------------- 14.2/99.7 MB 4.2 MB/s eta 0:00:21\n",
      "   ----- ---------------------------------- 14.2/99.7 MB 4.2 MB/s eta 0:00:21\n",
      "   ----- ---------------------------------- 14.2/99.7 MB 4.2 MB/s eta 0:00:21\n",
      "   ----- ---------------------------------- 14.2/99.7 MB 4.2 MB/s eta 0:00:21\n",
      "   ----- ---------------------------------- 14.2/99.7 MB 4.2 MB/s eta 0:00:21\n",
      "   ----- ---------------------------------- 14.2/99.7 MB 4.2 MB/s eta 0:00:21\n",
      "   ----- ---------------------------------- 14.2/99.7 MB 4.2 MB/s eta 0:00:21\n",
      "   ----- ---------------------------------- 14.2/99.7 MB 4.2 MB/s eta 0:00:21\n",
      "   ----- ---------------------------------- 14.2/99.7 MB 4.2 MB/s eta 0:00:21\n",
      "   ----- ---------------------------------- 14.2/99.7 MB 4.2 MB/s eta 0:00:21\n",
      "   ----- ---------------------------------- 14.2/99.7 MB 4.2 MB/s eta 0:00:21\n",
      "   ----- ---------------------------------- 14.2/99.7 MB 4.2 MB/s eta 0:00:21\n",
      "   ----- ---------------------------------- 14.2/99.7 MB 4.2 MB/s eta 0:00:21\n",
      "   ----- ---------------------------------- 14.2/99.7 MB 4.2 MB/s eta 0:00:21\n",
      "   ----- ---------------------------------- 14.2/99.7 MB 4.2 MB/s eta 0:00:21\n",
      "   ----- ---------------------------------- 14.2/99.7 MB 4.2 MB/s eta 0:00:21\n",
      "   ----- ---------------------------------- 14.2/99.7 MB 4.2 MB/s eta 0:00:21\n",
      "   ----- ---------------------------------- 14.2/99.7 MB 4.2 MB/s eta 0:00:21\n",
      "   ----- ---------------------------------- 14.2/99.7 MB 4.2 MB/s eta 0:00:21\n",
      "   ----- ---------------------------------- 14.3/99.7 MB 2.9 MB/s eta 0:00:30\n",
      "   ----- ---------------------------------- 14.5/99.7 MB 2.9 MB/s eta 0:00:30\n",
      "   ----- ---------------------------------- 14.8/99.7 MB 3.0 MB/s eta 0:00:29\n",
      "   ------ --------------------------------- 15.2/99.7 MB 3.0 MB/s eta 0:00:28\n",
      "   ------ --------------------------------- 15.8/99.7 MB 3.0 MB/s eta 0:00:28\n",
      "   ------ --------------------------------- 16.5/99.7 MB 3.2 MB/s eta 0:00:26\n",
      "   ------ --------------------------------- 17.0/99.7 MB 3.2 MB/s eta 0:00:26\n",
      "   ------ --------------------------------- 17.4/99.7 MB 3.2 MB/s eta 0:00:26\n",
      "   ------- -------------------------------- 17.7/99.7 MB 3.2 MB/s eta 0:00:26\n",
      "   ------- -------------------------------- 17.9/99.7 MB 3.1 MB/s eta 0:00:27\n",
      "   ------- -------------------------------- 18.0/99.7 MB 3.1 MB/s eta 0:00:27\n",
      "   ------- -------------------------------- 18.1/99.7 MB 3.1 MB/s eta 0:00:27\n",
      "   ------- -------------------------------- 18.3/99.7 MB 3.0 MB/s eta 0:00:27\n",
      "   ------- -------------------------------- 18.5/99.7 MB 3.0 MB/s eta 0:00:28\n",
      "   ------- -------------------------------- 18.7/99.7 MB 3.1 MB/s eta 0:00:27\n",
      "   ------- -------------------------------- 19.0/99.7 MB 3.1 MB/s eta 0:00:27\n",
      "   ------- -------------------------------- 19.3/99.7 MB 3.0 MB/s eta 0:00:27\n",
      "   ------- -------------------------------- 19.6/99.7 MB 3.1 MB/s eta 0:00:26\n",
      "   ------- -------------------------------- 19.9/99.7 MB 3.1 MB/s eta 0:00:26\n",
      "   -------- ------------------------------- 20.3/99.7 MB 3.1 MB/s eta 0:00:26\n",
      "   -------- ------------------------------- 20.7/99.7 MB 3.2 MB/s eta 0:00:25\n",
      "   -------- ------------------------------- 21.1/99.7 MB 3.3 MB/s eta 0:00:24\n",
      "   -------- ------------------------------- 21.6/99.7 MB 3.4 MB/s eta 0:00:24\n",
      "   -------- ------------------------------- 22.0/99.7 MB 3.5 MB/s eta 0:00:23\n",
      "   --------- ------------------------------ 22.5/99.7 MB 3.6 MB/s eta 0:00:22\n",
      "   --------- ------------------------------ 22.8/99.7 MB 3.6 MB/s eta 0:00:22\n",
      "   --------- ------------------------------ 23.1/99.7 MB 3.7 MB/s eta 0:00:21\n",
      "   --------- ------------------------------ 23.2/99.7 MB 3.7 MB/s eta 0:00:21\n",
      "   --------- ------------------------------ 23.4/99.7 MB 3.6 MB/s eta 0:00:22\n",
      "   --------- ------------------------------ 23.6/99.7 MB 3.6 MB/s eta 0:00:22\n",
      "   --------- ------------------------------ 23.8/99.7 MB 3.6 MB/s eta 0:00:22\n",
      "   --------- ------------------------------ 24.0/99.7 MB 3.6 MB/s eta 0:00:22\n",
      "   --------- ------------------------------ 24.3/99.7 MB 3.6 MB/s eta 0:00:22\n",
      "   --------- ------------------------------ 24.6/99.7 MB 6.3 MB/s eta 0:00:12\n",
      "   --------- ------------------------------ 24.9/99.7 MB 6.3 MB/s eta 0:00:12\n",
      "   ---------- ----------------------------- 25.2/99.7 MB 6.3 MB/s eta 0:00:12\n",
      "   ---------- ----------------------------- 25.6/99.7 MB 6.2 MB/s eta 0:00:12\n",
      "   ---------- ----------------------------- 25.9/99.7 MB 6.2 MB/s eta 0:00:12\n",
      "   ---------- ----------------------------- 26.3/99.7 MB 6.1 MB/s eta 0:00:12\n",
      "   ---------- ----------------------------- 26.8/99.7 MB 6.1 MB/s eta 0:00:13\n",
      "   ---------- ----------------------------- 27.3/99.7 MB 6.0 MB/s eta 0:00:13\n",
      "   ----------- ---------------------------- 27.7/99.7 MB 6.1 MB/s eta 0:00:12\n",
      "   ----------- ---------------------------- 27.7/99.7 MB 6.1 MB/s eta 0:00:12\n",
      "   ----------- ---------------------------- 27.9/99.7 MB 5.8 MB/s eta 0:00:13\n",
      "   ----------- ---------------------------- 28.1/99.7 MB 5.8 MB/s eta 0:00:13\n",
      "   ----------- ---------------------------- 28.3/99.7 MB 5.9 MB/s eta 0:00:13\n",
      "   ----------- ---------------------------- 28.5/99.7 MB 6.0 MB/s eta 0:00:12\n",
      "   ----------- ---------------------------- 28.8/99.7 MB 6.1 MB/s eta 0:00:12\n",
      "   ----------- ---------------------------- 29.1/99.7 MB 6.1 MB/s eta 0:00:12\n",
      "   ----------- ---------------------------- 29.4/99.7 MB 6.1 MB/s eta 0:00:12\n",
      "   ----------- ---------------------------- 29.7/99.7 MB 6.2 MB/s eta 0:00:12\n",
      "   ------------ --------------------------- 30.1/99.7 MB 6.1 MB/s eta 0:00:12\n",
      "   ------------ --------------------------- 30.5/99.7 MB 6.2 MB/s eta 0:00:12\n",
      "   ------------ --------------------------- 30.9/99.7 MB 6.2 MB/s eta 0:00:12\n",
      "   ------------ --------------------------- 31.3/99.7 MB 6.2 MB/s eta 0:00:12\n",
      "   ------------ --------------------------- 31.6/99.7 MB 6.2 MB/s eta 0:00:12\n",
      "   ------------ --------------------------- 32.1/99.7 MB 6.2 MB/s eta 0:00:11\n",
      "   ------------- -------------------------- 32.5/99.7 MB 6.2 MB/s eta 0:00:11\n",
      "   ------------- -------------------------- 32.8/99.7 MB 6.1 MB/s eta 0:00:11\n",
      "   ------------- -------------------------- 32.9/99.7 MB 6.0 MB/s eta 0:00:12\n",
      "   ------------- -------------------------- 33.0/99.7 MB 5.8 MB/s eta 0:00:12\n",
      "   ------------- -------------------------- 33.0/99.7 MB 5.7 MB/s eta 0:00:12\n",
      "   ------------- -------------------------- 33.2/99.7 MB 5.6 MB/s eta 0:00:12\n",
      "   ------------- -------------------------- 33.3/99.7 MB 5.6 MB/s eta 0:00:12\n",
      "   ------------- -------------------------- 33.5/99.7 MB 5.6 MB/s eta 0:00:12\n",
      "   ------------- -------------------------- 33.7/99.7 MB 5.6 MB/s eta 0:00:12\n",
      "   ------------- -------------------------- 33.9/99.7 MB 5.6 MB/s eta 0:00:12\n",
      "   ------------- -------------------------- 34.1/99.7 MB 5.7 MB/s eta 0:00:12\n",
      "   ------------- -------------------------- 34.3/99.7 MB 5.7 MB/s eta 0:00:12\n",
      "   ------------- -------------------------- 34.7/99.7 MB 5.7 MB/s eta 0:00:12\n",
      "   -------------- ------------------------- 35.0/99.7 MB 5.7 MB/s eta 0:00:12\n",
      "   -------------- ------------------------- 35.4/99.7 MB 5.7 MB/s eta 0:00:12\n",
      "   -------------- ------------------------- 35.8/99.7 MB 5.7 MB/s eta 0:00:12\n",
      "   -------------- ------------------------- 36.2/99.7 MB 5.8 MB/s eta 0:00:11\n",
      "   -------------- ------------------------- 36.5/99.7 MB 5.8 MB/s eta 0:00:11\n",
      "   -------------- ------------------------- 36.9/99.7 MB 5.8 MB/s eta 0:00:11\n",
      "   -------------- ------------------------- 37.3/99.7 MB 5.8 MB/s eta 0:00:11\n",
      "   --------------- ------------------------ 37.8/99.7 MB 5.8 MB/s eta 0:00:11\n",
      "   --------------- ------------------------ 38.2/99.7 MB 6.2 MB/s eta 0:00:10\n",
      "   --------------- ------------------------ 38.5/99.7 MB 6.3 MB/s eta 0:00:10\n",
      "   --------------- ------------------------ 38.8/99.7 MB 6.3 MB/s eta 0:00:10\n",
      "   --------------- ------------------------ 39.0/99.7 MB 6.3 MB/s eta 0:00:10\n",
      "   --------------- ------------------------ 39.3/99.7 MB 6.2 MB/s eta 0:00:10\n",
      "   --------------- ------------------------ 39.5/99.7 MB 6.2 MB/s eta 0:00:10\n",
      "   --------------- ------------------------ 39.6/99.7 MB 6.1 MB/s eta 0:00:10\n",
      "   --------------- ------------------------ 39.9/99.7 MB 6.1 MB/s eta 0:00:10\n",
      "   ---------------- ----------------------- 40.2/99.7 MB 6.0 MB/s eta 0:00:10\n",
      "   ---------------- ----------------------- 40.4/99.7 MB 6.0 MB/s eta 0:00:10\n",
      "   ---------------- ----------------------- 40.7/99.7 MB 5.9 MB/s eta 0:00:11\n",
      "   ---------------- ----------------------- 41.1/99.7 MB 5.9 MB/s eta 0:00:10\n",
      "   ---------------- ----------------------- 41.4/99.7 MB 5.9 MB/s eta 0:00:10\n",
      "   ---------------- ----------------------- 41.8/99.7 MB 5.8 MB/s eta 0:00:10\n",
      "   ---------------- ----------------------- 42.2/99.7 MB 5.8 MB/s eta 0:00:10\n",
      "   ----------------- ---------------------- 42.6/99.7 MB 5.7 MB/s eta 0:00:10\n",
      "   ----------------- ---------------------- 42.9/99.7 MB 5.8 MB/s eta 0:00:10\n",
      "   ----------------- ---------------------- 43.2/99.7 MB 6.1 MB/s eta 0:00:10\n",
      "   ----------------- ---------------------- 43.6/99.7 MB 6.4 MB/s eta 0:00:09\n",
      "   ----------------- ---------------------- 44.0/99.7 MB 6.6 MB/s eta 0:00:09\n",
      "   ----------------- ---------------------- 44.4/99.7 MB 6.8 MB/s eta 0:00:09\n",
      "   ----------------- ---------------------- 44.8/99.7 MB 6.9 MB/s eta 0:00:08\n",
      "   ------------------ --------------------- 45.0/99.7 MB 6.9 MB/s eta 0:00:08\n",
      "   ------------------ --------------------- 45.2/99.7 MB 6.8 MB/s eta 0:00:08\n",
      "   ------------------ --------------------- 45.4/99.7 MB 6.6 MB/s eta 0:00:09\n",
      "   ------------------ --------------------- 45.5/99.7 MB 6.5 MB/s eta 0:00:09\n",
      "   ------------------ --------------------- 45.7/99.7 MB 6.4 MB/s eta 0:00:09\n",
      "   ------------------ --------------------- 45.8/99.7 MB 6.3 MB/s eta 0:00:09\n",
      "   ------------------ --------------------- 46.1/99.7 MB 6.1 MB/s eta 0:00:09\n",
      "   ------------------ --------------------- 46.3/99.7 MB 6.1 MB/s eta 0:00:09\n",
      "   ------------------ --------------------- 46.5/99.7 MB 6.0 MB/s eta 0:00:09\n",
      "   ------------------ --------------------- 46.8/99.7 MB 6.0 MB/s eta 0:00:09\n",
      "   ------------------ --------------------- 47.1/99.7 MB 5.9 MB/s eta 0:00:09\n",
      "   ------------------- -------------------- 47.4/99.7 MB 5.8 MB/s eta 0:00:10\n",
      "   ------------------- -------------------- 47.8/99.7 MB 5.8 MB/s eta 0:00:09\n",
      "   ------------------- -------------------- 48.1/99.7 MB 5.7 MB/s eta 0:00:09\n",
      "   ------------------- -------------------- 48.5/99.7 MB 5.7 MB/s eta 0:00:09\n",
      "   ------------------- -------------------- 48.9/99.7 MB 5.8 MB/s eta 0:00:09\n",
      "   ------------------- -------------------- 49.4/99.7 MB 6.0 MB/s eta 0:00:09\n",
      "   ------------------- -------------------- 49.9/99.7 MB 6.2 MB/s eta 0:00:09\n",
      "   -------------------- ------------------- 50.3/99.7 MB 6.3 MB/s eta 0:00:08\n",
      "   -------------------- ------------------- 50.6/99.7 MB 6.4 MB/s eta 0:00:08\n",
      "   -------------------- ------------------- 50.9/99.7 MB 6.4 MB/s eta 0:00:08\n",
      "   -------------------- ------------------- 51.2/99.7 MB 6.4 MB/s eta 0:00:08\n",
      "   -------------------- ------------------- 51.3/99.7 MB 6.2 MB/s eta 0:00:08\n",
      "   -------------------- ------------------- 51.5/99.7 MB 6.1 MB/s eta 0:00:08\n",
      "   -------------------- ------------------- 51.6/99.7 MB 6.0 MB/s eta 0:00:09\n",
      "   -------------------- ------------------- 51.8/99.7 MB 6.0 MB/s eta 0:00:09\n",
      "   -------------------- ------------------- 52.0/99.7 MB 5.8 MB/s eta 0:00:09\n",
      "   -------------------- ------------------- 52.2/99.7 MB 5.7 MB/s eta 0:00:09\n",
      "   --------------------- ------------------ 52.4/99.7 MB 5.7 MB/s eta 0:00:09\n",
      "   --------------------- ------------------ 52.6/99.7 MB 5.6 MB/s eta 0:00:09\n",
      "   --------------------- ------------------ 52.9/99.7 MB 5.6 MB/s eta 0:00:09\n",
      "   --------------------- ------------------ 53.2/99.7 MB 5.5 MB/s eta 0:00:09\n",
      "   --------------------- ------------------ 53.6/99.7 MB 5.6 MB/s eta 0:00:09\n",
      "   --------------------- ------------------ 53.9/99.7 MB 5.6 MB/s eta 0:00:09\n",
      "   --------------------- ------------------ 54.2/99.7 MB 5.5 MB/s eta 0:00:09\n",
      "   --------------------- ------------------ 54.6/99.7 MB 5.5 MB/s eta 0:00:09\n",
      "   ---------------------- ----------------- 55.1/99.7 MB 5.5 MB/s eta 0:00:09\n",
      "   ---------------------- ----------------- 55.5/99.7 MB 5.7 MB/s eta 0:00:08\n",
      "   ---------------------- ----------------- 56.0/99.7 MB 6.1 MB/s eta 0:00:08\n",
      "   ---------------------- ----------------- 56.4/99.7 MB 6.3 MB/s eta 0:00:07\n",
      "   ---------------------- ----------------- 56.7/99.7 MB 6.4 MB/s eta 0:00:07\n",
      "   ---------------------- ----------------- 56.9/99.7 MB 6.3 MB/s eta 0:00:07\n",
      "   ---------------------- ----------------- 57.1/99.7 MB 6.2 MB/s eta 0:00:07\n",
      "   ---------------------- ----------------- 57.3/99.7 MB 6.2 MB/s eta 0:00:07\n",
      "   ----------------------- ---------------- 57.6/99.7 MB 6.2 MB/s eta 0:00:07\n",
      "   ----------------------- ---------------- 57.9/99.7 MB 6.1 MB/s eta 0:00:07\n",
      "   ----------------------- ---------------- 58.2/99.7 MB 6.1 MB/s eta 0:00:07\n",
      "   ----------------------- ---------------- 58.5/99.7 MB 6.1 MB/s eta 0:00:07\n",
      "   ----------------------- ---------------- 58.5/99.7 MB 6.1 MB/s eta 0:00:07\n",
      "   ----------------------- ---------------- 58.5/99.7 MB 6.1 MB/s eta 0:00:07\n",
      "   ----------------------- ---------------- 58.6/99.7 MB 5.6 MB/s eta 0:00:08\n",
      "   ----------------------- ---------------- 58.9/99.7 MB 5.5 MB/s eta 0:00:08\n",
      "   ----------------------- ---------------- 59.1/99.7 MB 5.5 MB/s eta 0:00:08\n",
      "   ----------------------- ---------------- 59.1/99.7 MB 5.5 MB/s eta 0:00:08\n",
      "   ----------------------- ---------------- 59.1/99.7 MB 5.2 MB/s eta 0:00:08\n",
      "   ----------------------- ---------------- 59.3/99.7 MB 5.2 MB/s eta 0:00:08\n",
      "   ----------------------- ---------------- 59.5/99.7 MB 5.1 MB/s eta 0:00:08\n",
      "   ----------------------- ---------------- 59.6/99.7 MB 5.0 MB/s eta 0:00:08\n",
      "   ----------------------- ---------------- 59.6/99.7 MB 4.9 MB/s eta 0:00:09\n",
      "   ------------------------ --------------- 59.9/99.7 MB 4.8 MB/s eta 0:00:09\n",
      "   ------------------------ --------------- 60.2/99.7 MB 4.8 MB/s eta 0:00:09\n",
      "   ------------------------ --------------- 60.2/99.7 MB 4.8 MB/s eta 0:00:09\n",
      "   ------------------------ --------------- 60.2/99.7 MB 4.6 MB/s eta 0:00:09\n",
      "   ------------------------ --------------- 60.5/99.7 MB 4.5 MB/s eta 0:00:09\n",
      "   ------------------------ --------------- 60.7/99.7 MB 4.5 MB/s eta 0:00:09\n",
      "   ------------------------ --------------- 60.7/99.7 MB 4.5 MB/s eta 0:00:09\n",
      "   ------------------------ --------------- 60.9/99.7 MB 4.4 MB/s eta 0:00:09\n",
      "   ------------------------ --------------- 61.2/99.7 MB 4.4 MB/s eta 0:00:09\n",
      "   ------------------------ --------------- 61.3/99.7 MB 4.4 MB/s eta 0:00:09\n",
      "   ------------------------ --------------- 61.5/99.7 MB 4.3 MB/s eta 0:00:09\n",
      "   ------------------------ --------------- 61.6/99.7 MB 4.3 MB/s eta 0:00:09\n",
      "   ------------------------ --------------- 61.8/99.7 MB 4.3 MB/s eta 0:00:09\n",
      "   ------------------------ --------------- 61.8/99.7 MB 4.3 MB/s eta 0:00:09\n",
      "   ------------------------ --------------- 61.9/99.7 MB 4.3 MB/s eta 0:00:09\n",
      "   ------------------------ --------------- 62.2/99.7 MB 4.3 MB/s eta 0:00:09\n",
      "   ------------------------ --------------- 62.3/99.7 MB 4.3 MB/s eta 0:00:09\n",
      "   ------------------------- -------------- 62.6/99.7 MB 4.3 MB/s eta 0:00:09\n",
      "   ------------------------- -------------- 62.8/99.7 MB 4.3 MB/s eta 0:00:09\n",
      "   ------------------------- -------------- 63.0/99.7 MB 4.3 MB/s eta 0:00:09\n",
      "   ------------------------- -------------- 63.0/99.7 MB 4.3 MB/s eta 0:00:09\n",
      "   ------------------------- -------------- 63.0/99.7 MB 4.1 MB/s eta 0:00:09\n",
      "   ------------------------- -------------- 63.2/99.7 MB 4.0 MB/s eta 0:00:10\n",
      "   ------------------------- -------------- 63.4/99.7 MB 4.0 MB/s eta 0:00:09\n",
      "   ------------------------- -------------- 63.7/99.7 MB 4.0 MB/s eta 0:00:09\n",
      "   ------------------------- -------------- 64.0/99.7 MB 4.0 MB/s eta 0:00:09\n",
      "   ------------------------- -------------- 64.0/99.7 MB 4.0 MB/s eta 0:00:09\n",
      "   ------------------------- -------------- 64.0/99.7 MB 4.0 MB/s eta 0:00:09\n",
      "   ------------------------- -------------- 64.1/99.7 MB 3.9 MB/s eta 0:00:10\n",
      "   ------------------------- -------------- 64.1/99.7 MB 3.8 MB/s eta 0:00:10\n",
      "   ------------------------- -------------- 64.2/99.7 MB 3.7 MB/s eta 0:00:10\n",
      "   ------------------------- -------------- 64.2/99.7 MB 3.7 MB/s eta 0:00:10\n",
      "   ------------------------- -------------- 64.2/99.7 MB 3.6 MB/s eta 0:00:10\n",
      "   ------------------------- -------------- 64.2/99.7 MB 3.6 MB/s eta 0:00:10\n",
      "   ------------------------- -------------- 64.3/99.7 MB 3.5 MB/s eta 0:00:11\n",
      "   ------------------------- -------------- 64.3/99.7 MB 3.5 MB/s eta 0:00:11\n",
      "   ------------------------- -------------- 64.3/99.7 MB 3.5 MB/s eta 0:00:11\n",
      "   ------------------------- -------------- 64.4/99.7 MB 3.3 MB/s eta 0:00:11\n",
      "   ------------------------- -------------- 64.6/99.7 MB 3.3 MB/s eta 0:00:11\n",
      "   -------------------------- ------------- 64.9/99.7 MB 3.3 MB/s eta 0:00:11\n",
      "   -------------------------- ------------- 65.2/99.7 MB 3.3 MB/s eta 0:00:11\n",
      "   -------------------------- ------------- 65.5/99.7 MB 3.3 MB/s eta 0:00:11\n",
      "   -------------------------- ------------- 65.8/99.7 MB 3.2 MB/s eta 0:00:11\n",
      "   -------------------------- ------------- 66.2/99.7 MB 3.2 MB/s eta 0:00:11\n",
      "   -------------------------- ------------- 66.6/99.7 MB 3.2 MB/s eta 0:00:11\n",
      "   -------------------------- ------------- 67.0/99.7 MB 3.2 MB/s eta 0:00:11\n",
      "   --------------------------- ------------ 67.4/99.7 MB 3.3 MB/s eta 0:00:10\n",
      "   --------------------------- ------------ 67.8/99.7 MB 3.3 MB/s eta 0:00:10\n",
      "   --------------------------- ------------ 68.3/99.7 MB 3.4 MB/s eta 0:00:10\n",
      "   --------------------------- ------------ 68.8/99.7 MB 3.5 MB/s eta 0:00:09\n",
      "   --------------------------- ------------ 69.2/99.7 MB 3.6 MB/s eta 0:00:09\n",
      "   --------------------------- ------------ 69.4/99.7 MB 3.7 MB/s eta 0:00:09\n",
      "   --------------------------- ------------ 69.5/99.7 MB 3.7 MB/s eta 0:00:09\n",
      "   --------------------------- ------------ 69.7/99.7 MB 3.7 MB/s eta 0:00:09\n",
      "   --------------------------- ------------ 69.8/99.7 MB 3.6 MB/s eta 0:00:09\n",
      "   ---------------------------- ----------- 69.9/99.7 MB 3.7 MB/s eta 0:00:09\n",
      "   ---------------------------- ----------- 70.1/99.7 MB 3.7 MB/s eta 0:00:09\n",
      "   ---------------------------- ----------- 70.3/99.7 MB 3.7 MB/s eta 0:00:08\n",
      "   ---------------------------- ----------- 70.6/99.7 MB 3.8 MB/s eta 0:00:08\n",
      "   ---------------------------- ----------- 70.8/99.7 MB 3.8 MB/s eta 0:00:08\n",
      "   ---------------------------- ----------- 71.1/99.7 MB 3.9 MB/s eta 0:00:08\n",
      "   ---------------------------- ----------- 71.4/99.7 MB 3.9 MB/s eta 0:00:08\n",
      "   ---------------------------- ----------- 71.7/99.7 MB 4.0 MB/s eta 0:00:08\n",
      "   ---------------------------- ----------- 72.1/99.7 MB 4.2 MB/s eta 0:00:07\n",
      "   ----------------------------- ---------- 72.5/99.7 MB 4.2 MB/s eta 0:00:07\n",
      "   ----------------------------- ---------- 72.9/99.7 MB 4.3 MB/s eta 0:00:07\n",
      "   ----------------------------- ---------- 73.3/99.7 MB 4.6 MB/s eta 0:00:06\n",
      "   ----------------------------- ---------- 73.7/99.7 MB 4.7 MB/s eta 0:00:06\n",
      "   ----------------------------- ---------- 74.2/99.7 MB 4.8 MB/s eta 0:00:06\n",
      "   ----------------------------- ---------- 74.6/99.7 MB 6.4 MB/s eta 0:00:04\n",
      "   ------------------------------ --------- 75.0/99.7 MB 6.5 MB/s eta 0:00:04\n",
      "   ------------------------------ --------- 75.3/99.7 MB 6.5 MB/s eta 0:00:04\n",
      "   ------------------------------ --------- 75.5/99.7 MB 6.4 MB/s eta 0:00:04\n",
      "   ------------------------------ --------- 75.8/99.7 MB 6.4 MB/s eta 0:00:04\n",
      "   ------------------------------ --------- 76.0/99.7 MB 6.4 MB/s eta 0:00:04\n",
      "   ------------------------------ --------- 76.2/99.7 MB 6.3 MB/s eta 0:00:04\n",
      "   ------------------------------ --------- 76.5/99.7 MB 6.3 MB/s eta 0:00:04\n",
      "   ------------------------------ --------- 76.9/99.7 MB 6.2 MB/s eta 0:00:04\n",
      "   ------------------------------ --------- 77.2/99.7 MB 6.2 MB/s eta 0:00:04\n",
      "   ------------------------------- -------- 77.6/99.7 MB 6.2 MB/s eta 0:00:04\n",
      "   ------------------------------- -------- 77.9/99.7 MB 6.2 MB/s eta 0:00:04\n",
      "   ------------------------------- -------- 78.3/99.7 MB 6.1 MB/s eta 0:00:04\n",
      "   ------------------------------- -------- 78.7/99.7 MB 6.1 MB/s eta 0:00:04\n",
      "   ------------------------------- -------- 79.0/99.7 MB 6.0 MB/s eta 0:00:04\n",
      "   ------------------------------- -------- 79.2/99.7 MB 5.9 MB/s eta 0:00:04\n",
      "   ------------------------------- -------- 79.5/99.7 MB 5.9 MB/s eta 0:00:04\n",
      "   ------------------------------- -------- 79.8/99.7 MB 6.1 MB/s eta 0:00:04\n",
      "   -------------------------------- ------- 80.1/99.7 MB 6.4 MB/s eta 0:00:04\n",
      "   -------------------------------- ------- 80.4/99.7 MB 6.5 MB/s eta 0:00:03\n",
      "   -------------------------------- ------- 80.8/99.7 MB 6.6 MB/s eta 0:00:03\n",
      "   -------------------------------- ------- 81.1/99.7 MB 6.6 MB/s eta 0:00:03\n",
      "   -------------------------------- ------- 81.4/99.7 MB 6.7 MB/s eta 0:00:03\n",
      "   -------------------------------- ------- 81.6/99.7 MB 6.5 MB/s eta 0:00:03\n",
      "   -------------------------------- ------- 81.9/99.7 MB 6.5 MB/s eta 0:00:03\n",
      "   -------------------------------- ------- 82.1/99.7 MB 6.5 MB/s eta 0:00:03\n",
      "   --------------------------------- ------ 82.4/99.7 MB 6.4 MB/s eta 0:00:03\n",
      "   --------------------------------- ------ 82.6/99.7 MB 6.3 MB/s eta 0:00:03\n",
      "   --------------------------------- ------ 82.8/99.7 MB 6.2 MB/s eta 0:00:03\n",
      "   --------------------------------- ------ 83.1/99.7 MB 6.2 MB/s eta 0:00:03\n",
      "   --------------------------------- ------ 83.3/99.7 MB 6.1 MB/s eta 0:00:03\n",
      "   --------------------------------- ------ 83.6/99.7 MB 6.1 MB/s eta 0:00:03\n",
      "   --------------------------------- ------ 83.9/99.7 MB 6.0 MB/s eta 0:00:03\n",
      "   --------------------------------- ------ 84.3/99.7 MB 6.0 MB/s eta 0:00:03\n",
      "   --------------------------------- ------ 84.7/99.7 MB 5.9 MB/s eta 0:00:03\n",
      "   ---------------------------------- ----- 85.1/99.7 MB 6.0 MB/s eta 0:00:03\n",
      "   ---------------------------------- ----- 85.5/99.7 MB 6.0 MB/s eta 0:00:03\n",
      "   ---------------------------------- ----- 85.9/99.7 MB 6.2 MB/s eta 0:00:03\n",
      "   ---------------------------------- ----- 86.3/99.7 MB 6.2 MB/s eta 0:00:03\n",
      "   ---------------------------------- ----- 86.5/99.7 MB 6.2 MB/s eta 0:00:03\n",
      "   ---------------------------------- ----- 86.6/99.7 MB 6.1 MB/s eta 0:00:03\n",
      "   ---------------------------------- ----- 86.8/99.7 MB 6.1 MB/s eta 0:00:03\n",
      "   ---------------------------------- ----- 87.0/99.7 MB 6.0 MB/s eta 0:00:03\n",
      "   ---------------------------------- ----- 87.2/99.7 MB 5.9 MB/s eta 0:00:03\n",
      "   ----------------------------------- ---- 87.5/99.7 MB 5.8 MB/s eta 0:00:03\n",
      "   ----------------------------------- ---- 87.7/99.7 MB 5.8 MB/s eta 0:00:03\n",
      "   ----------------------------------- ---- 88.0/99.7 MB 5.8 MB/s eta 0:00:03\n",
      "   ----------------------------------- ---- 88.4/99.7 MB 5.8 MB/s eta 0:00:02\n",
      "   ----------------------------------- ---- 88.7/99.7 MB 5.7 MB/s eta 0:00:02\n",
      "   ----------------------------------- ---- 89.1/99.7 MB 5.7 MB/s eta 0:00:02\n",
      "   ----------------------------------- ---- 89.5/99.7 MB 5.9 MB/s eta 0:00:02\n",
      "   ------------------------------------ --- 89.9/99.7 MB 6.0 MB/s eta 0:00:02\n",
      "   ------------------------------------ --- 90.2/99.7 MB 6.0 MB/s eta 0:00:02\n",
      "   ------------------------------------ --- 90.4/99.7 MB 5.9 MB/s eta 0:00:02\n",
      "   ------------------------------------ --- 90.6/99.7 MB 5.8 MB/s eta 0:00:02\n",
      "   ------------------------------------ --- 90.9/99.7 MB 5.8 MB/s eta 0:00:02\n",
      "   ------------------------------------ --- 91.1/99.7 MB 5.7 MB/s eta 0:00:02\n",
      "   ------------------------------------ --- 91.3/99.7 MB 5.7 MB/s eta 0:00:02\n",
      "   ------------------------------------ --- 91.6/99.7 MB 5.6 MB/s eta 0:00:02\n",
      "   ------------------------------------ --- 91.9/99.7 MB 5.7 MB/s eta 0:00:02\n",
      "   ------------------------------------ --- 92.2/99.7 MB 5.7 MB/s eta 0:00:02\n",
      "   ------------------------------------- -- 92.6/99.7 MB 5.8 MB/s eta 0:00:02\n",
      "   ------------------------------------- -- 93.0/99.7 MB 5.9 MB/s eta 0:00:02\n",
      "   ------------------------------------- -- 93.3/99.7 MB 6.0 MB/s eta 0:00:02\n",
      "   ------------------------------------- -- 93.6/99.7 MB 6.0 MB/s eta 0:00:02\n",
      "   ------------------------------------- -- 93.8/99.7 MB 6.0 MB/s eta 0:00:02\n",
      "   ------------------------------------- -- 94.0/99.7 MB 6.0 MB/s eta 0:00:01\n",
      "   ------------------------------------- -- 94.3/99.7 MB 5.8 MB/s eta 0:00:01\n",
      "   ------------------------------------- -- 94.6/99.7 MB 5.8 MB/s eta 0:00:01\n",
      "   -------------------------------------- - 95.0/99.7 MB 5.8 MB/s eta 0:00:01\n",
      "   -------------------------------------- - 95.3/99.7 MB 5.8 MB/s eta 0:00:01\n",
      "   -------------------------------------- - 95.7/99.7 MB 5.8 MB/s eta 0:00:01\n",
      "   -------------------------------------- - 96.1/99.7 MB 5.8 MB/s eta 0:00:01\n",
      "   -------------------------------------- - 96.5/99.7 MB 5.8 MB/s eta 0:00:01\n",
      "   -------------------------------------- - 96.9/99.7 MB 6.1 MB/s eta 0:00:01\n",
      "   -------------------------------------- - 97.2/99.7 MB 6.2 MB/s eta 0:00:01\n",
      "   ---------------------------------------  97.4/99.7 MB 6.2 MB/s eta 0:00:01\n",
      "   ---------------------------------------  97.7/99.7 MB 6.2 MB/s eta 0:00:01\n",
      "   ---------------------------------------  97.9/99.7 MB 6.1 MB/s eta 0:00:01\n",
      "   ---------------------------------------  98.1/99.7 MB 6.1 MB/s eta 0:00:01\n",
      "   ---------------------------------------  98.4/99.7 MB 6.1 MB/s eta 0:00:01\n",
      "   ---------------------------------------  98.7/99.7 MB 6.1 MB/s eta 0:00:01\n",
      "   ---------------------------------------  99.0/99.7 MB 6.1 MB/s eta 0:00:01\n",
      "   ---------------------------------------  99.4/99.7 MB 6.1 MB/s eta 0:00:01\n",
      "   ---------------------------------------  99.7/99.7 MB 6.0 MB/s eta 0:00:01\n",
      "   ---------------------------------------  99.7/99.7 MB 6.0 MB/s eta 0:00:01\n",
      "   ---------------------------------------  99.7/99.7 MB 6.0 MB/s eta 0:00:01\n",
      "   ---------------------------------------  99.7/99.7 MB 6.0 MB/s eta 0:00:01\n",
      "   ---------------------------------------  99.7/99.7 MB 6.0 MB/s eta 0:00:01\n",
      "   ---------------------------------------  99.7/99.7 MB 6.0 MB/s eta 0:00:01\n",
      "   ---------------------------------------  99.7/99.7 MB 6.0 MB/s eta 0:00:01\n",
      "   ---------------------------------------  99.7/99.7 MB 6.0 MB/s eta 0:00:01\n",
      "   ---------------------------------------  99.7/99.7 MB 6.0 MB/s eta 0:00:01\n",
      "   ---------------------------------------  99.7/99.7 MB 6.0 MB/s eta 0:00:01\n",
      "   ---------------------------------------  99.7/99.7 MB 6.0 MB/s eta 0:00:01\n",
      "   ---------------------------------------  99.7/99.7 MB 6.0 MB/s eta 0:00:01\n",
      "   ---------------------------------------- 99.7/99.7 MB 4.2 MB/s eta 0:00:00\n",
      "Installing collected packages: xgboost\n",
      "Successfully installed xgboost-2.0.0\n",
      "Note: you may need to restart the kernel to use updated packages.\n"
     ]
    }
   ],
   "source": [
    "pip install xgboost"
   ]
  },
  {
   "cell_type": "code",
   "execution_count": 176,
   "id": "15a75731",
   "metadata": {},
   "outputs": [],
   "source": [
    "from sklearn.linear_model import LogisticRegression\n",
    "from sklearn.svm import SVC\n",
    "from sklearn.naive_bayes import MultinomialNB\n",
    "from sklearn.tree import DecisionTreeClassifier\n",
    "from sklearn.neighbors import KNeighborsClassifier\n",
    "from sklearn.ensemble import RandomForestClassifier\n",
    "from sklearn.ensemble import AdaBoostClassifier\n",
    "from sklearn.ensemble import BaggingClassifier\n",
    "from sklearn.ensemble import ExtraTreesClassifier\n",
    "from sklearn.ensemble import GradientBoostingClassifier\n",
    "from xgboost import XGBClassifier"
   ]
  },
  {
   "cell_type": "code",
   "execution_count": 177,
   "id": "a9a2e114",
   "metadata": {},
   "outputs": [],
   "source": [
    "svc = SVC(kernel='sigmoid', gamma=1.0)\n",
    "knc = KNeighborsClassifier()\n",
    "mnb = MultinomialNB()\n",
    "dtc = DecisionTreeClassifier(max_depth=5)\n",
    "lrc = LogisticRegression(solver='liblinear', penalty='l1')\n",
    "rfc = RandomForestClassifier(n_estimators=50, random_state=2)\n",
    "abc = AdaBoostClassifier(n_estimators=50, random_state=2)\n",
    "bc = BaggingClassifier(n_estimators=50, random_state=2)\n",
    "etc = ExtraTreesClassifier(n_estimators=50, random_state=2)\n",
    "gbdt = GradientBoostingClassifier(n_estimators=50,random_state=2)\n",
    "xgb = XGBClassifier(n_estimators=50,random_state=2)"
   ]
  },
  {
   "cell_type": "code",
   "execution_count": 181,
   "id": "ea30129c",
   "metadata": {},
   "outputs": [],
   "source": [
    "clfs = {\n",
    "    'SVC' : svc,\n",
    "    'KN' : knc, \n",
    "    'NB': mnb, \n",
    "    'DT': dtc, \n",
    "    'LR': lrc, \n",
    "    'RF': rfc, \n",
    "    'AdaBoost': abc, \n",
    "    'BgC': bc, \n",
    "    'ETC': etc,\n",
    "    'GBDT':gbdt,\n",
    "    'xgb':xgb\n",
    "}"
   ]
  },
  {
   "cell_type": "code",
   "execution_count": 179,
   "id": "13a0a18e",
   "metadata": {},
   "outputs": [],
   "source": [
    "def train_classifier(clf,X_train,y_train,X_test,y_test):\n",
    "    clf.fit(X_train,y_train)\n",
    "    y_pred = clf.predict(X_test)\n",
    "    accuracy = accuracy_score(y_test,y_pred)\n",
    "    precision = precision_score(y_test,y_pred)\n",
    "    return accuracy,precision"
   ]
  },
  {
   "cell_type": "code",
   "execution_count": 180,
   "id": "5dba33ed",
   "metadata": {},
   "outputs": [
    {
     "data": {
      "text/plain": [
       "(0.9729206963249516, 0.9741379310344828)"
      ]
     },
     "execution_count": 180,
     "metadata": {},
     "output_type": "execute_result"
    }
   ],
   "source": [
    "train_classifier(svc,X_train,y_train,X_test,y_test)"
   ]
  },
  {
   "cell_type": "code",
   "execution_count": 192,
   "id": "4c02990f",
   "metadata": {
    "collapsed": true
   },
   "outputs": [
    {
     "name": "stdout",
     "output_type": "stream",
     "text": [
      "For  SVC\n",
      "Accuracy -  0.9729206963249516\n",
      "Precision-  0.9741379310344828\n",
      "For  KN\n",
      "Accuracy -  0.9003868471953579\n",
      "Precision-  1.0\n",
      "For  NB\n",
      "Accuracy -  0.9593810444874274\n",
      "Precision-  1.0\n",
      "For  DT\n",
      "Accuracy -  0.937137330754352\n",
      "Precision-  0.8543689320388349\n",
      "For  LR\n",
      "Accuracy -  0.9516441005802708\n",
      "Precision-  0.94\n",
      "For  RF\n",
      "Accuracy -  0.971953578336557\n",
      "Precision-  1.0\n",
      "For  AdaBoost\n",
      "Accuracy -  0.9613152804642167\n",
      "Precision-  0.9454545454545454\n",
      "For  BgC\n",
      "Accuracy -  0.9584139264990329\n",
      "Precision-  0.8625954198473282\n",
      "For  ETC\n",
      "Accuracy -  0.9729206963249516\n",
      "Precision-  0.9824561403508771\n",
      "For  GBDT\n",
      "Accuracy -  0.9526112185686654\n",
      "Precision-  0.9238095238095239\n",
      "For  xgb\n",
      "Accuracy -  0.9729206963249516\n",
      "Precision-  0.9435483870967742\n"
     ]
    }
   ],
   "source": [
    "accuracy_scores = []\n",
    "precision_scores = []\n",
    "\n",
    "for name,clf in clfs.items():\n",
    "    \n",
    "    current_accuracy,current_precision = train_classifier(clf, X_train,y_train,X_test,y_test)\n",
    "    \n",
    "    print('For ',name)\n",
    "    print('Accuracy - ',current_accuracy)\n",
    "    print('Precision- ',current_precision)\n",
    "    \n",
    "    accuracy_scores.append(current_accuracy)\n",
    "    precision_scores.append(current_precision)\n",
    "    \n"
   ]
  },
  {
   "cell_type": "code",
   "execution_count": 195,
   "id": "76ab2bd4",
   "metadata": {},
   "outputs": [],
   "source": [
    "performance_df = pd.DataFrame({'Algorithm':clfs.keys(),'Accuracy':accuracy_scores,'Precision':precision_scores}).sort_values('Precision',ascending=False)"
   ]
  },
  {
   "cell_type": "code",
   "execution_count": 196,
   "id": "8ffb4900",
   "metadata": {},
   "outputs": [
    {
     "data": {
      "text/html": [
       "<div>\n",
       "<style scoped>\n",
       "    .dataframe tbody tr th:only-of-type {\n",
       "        vertical-align: middle;\n",
       "    }\n",
       "\n",
       "    .dataframe tbody tr th {\n",
       "        vertical-align: top;\n",
       "    }\n",
       "\n",
       "    .dataframe thead th {\n",
       "        text-align: right;\n",
       "    }\n",
       "</style>\n",
       "<table border=\"1\" class=\"dataframe\">\n",
       "  <thead>\n",
       "    <tr style=\"text-align: right;\">\n",
       "      <th></th>\n",
       "      <th>Algorithm</th>\n",
       "      <th>Accuracy</th>\n",
       "      <th>Precision</th>\n",
       "    </tr>\n",
       "  </thead>\n",
       "  <tbody>\n",
       "    <tr>\n",
       "      <th>1</th>\n",
       "      <td>KN</td>\n",
       "      <td>0.900387</td>\n",
       "      <td>1.000000</td>\n",
       "    </tr>\n",
       "    <tr>\n",
       "      <th>2</th>\n",
       "      <td>NB</td>\n",
       "      <td>0.959381</td>\n",
       "      <td>1.000000</td>\n",
       "    </tr>\n",
       "    <tr>\n",
       "      <th>5</th>\n",
       "      <td>RF</td>\n",
       "      <td>0.971954</td>\n",
       "      <td>1.000000</td>\n",
       "    </tr>\n",
       "    <tr>\n",
       "      <th>8</th>\n",
       "      <td>ETC</td>\n",
       "      <td>0.972921</td>\n",
       "      <td>0.982456</td>\n",
       "    </tr>\n",
       "    <tr>\n",
       "      <th>0</th>\n",
       "      <td>SVC</td>\n",
       "      <td>0.972921</td>\n",
       "      <td>0.974138</td>\n",
       "    </tr>\n",
       "    <tr>\n",
       "      <th>6</th>\n",
       "      <td>AdaBoost</td>\n",
       "      <td>0.961315</td>\n",
       "      <td>0.945455</td>\n",
       "    </tr>\n",
       "    <tr>\n",
       "      <th>10</th>\n",
       "      <td>xgb</td>\n",
       "      <td>0.972921</td>\n",
       "      <td>0.943548</td>\n",
       "    </tr>\n",
       "    <tr>\n",
       "      <th>4</th>\n",
       "      <td>LR</td>\n",
       "      <td>0.951644</td>\n",
       "      <td>0.940000</td>\n",
       "    </tr>\n",
       "    <tr>\n",
       "      <th>9</th>\n",
       "      <td>GBDT</td>\n",
       "      <td>0.952611</td>\n",
       "      <td>0.923810</td>\n",
       "    </tr>\n",
       "    <tr>\n",
       "      <th>7</th>\n",
       "      <td>BgC</td>\n",
       "      <td>0.958414</td>\n",
       "      <td>0.862595</td>\n",
       "    </tr>\n",
       "    <tr>\n",
       "      <th>3</th>\n",
       "      <td>DT</td>\n",
       "      <td>0.937137</td>\n",
       "      <td>0.854369</td>\n",
       "    </tr>\n",
       "  </tbody>\n",
       "</table>\n",
       "</div>"
      ],
      "text/plain": [
       "   Algorithm  Accuracy  Precision\n",
       "1         KN  0.900387   1.000000\n",
       "2         NB  0.959381   1.000000\n",
       "5         RF  0.971954   1.000000\n",
       "8        ETC  0.972921   0.982456\n",
       "0        SVC  0.972921   0.974138\n",
       "6   AdaBoost  0.961315   0.945455\n",
       "10       xgb  0.972921   0.943548\n",
       "4         LR  0.951644   0.940000\n",
       "9       GBDT  0.952611   0.923810\n",
       "7        BgC  0.958414   0.862595\n",
       "3         DT  0.937137   0.854369"
      ]
     },
     "execution_count": 196,
     "metadata": {},
     "output_type": "execute_result"
    }
   ],
   "source": [
    "performance_df"
   ]
  },
  {
   "cell_type": "code",
   "execution_count": 197,
   "id": "eb14e39a",
   "metadata": {},
   "outputs": [],
   "source": [
    "#Model Improvement"
   ]
  },
  {
   "cell_type": "code",
   "execution_count": 199,
   "id": "f87f0ee5",
   "metadata": {},
   "outputs": [],
   "source": [
    "#changing the max_feature in tfidf\n",
    "tfidf_1 = TfidfVectorizer(max_features =3000)"
   ]
  },
  {
   "cell_type": "code",
   "execution_count": 231,
   "id": "385c6013",
   "metadata": {},
   "outputs": [],
   "source": [
    "X1 = tfidf_1.fit_transform(df['transformed_text']).toarray()\n",
    "y = df['target'].values"
   ]
  },
  {
   "cell_type": "code",
   "execution_count": 201,
   "id": "d69c31ec",
   "metadata": {},
   "outputs": [],
   "source": [
    "X1_train,X1_test,y_train,y_test = train_test_split(X1,y,test_size =0.2,random_state =2)"
   ]
  },
  {
   "cell_type": "code",
   "execution_count": 202,
   "id": "b704ea91",
   "metadata": {},
   "outputs": [],
   "source": [
    "def train_classifier(clf,X1_train,y_train,X1_test,y_test):\n",
    "    clf.fit(X1_train,y_train)\n",
    "    y_pred = clf.predict(X1_test)\n",
    "    accuracy = accuracy_score(y_test,y_pred)\n",
    "    precision = precision_score(y_test,y_pred)\n",
    "    return accuracy,precision"
   ]
  },
  {
   "cell_type": "code",
   "execution_count": 204,
   "id": "31e2d5cc",
   "metadata": {},
   "outputs": [
    {
     "name": "stdout",
     "output_type": "stream",
     "text": [
      "For  SVC\n",
      "Max_features_Accuracy -  0.9758220502901354\n",
      "Max_features_Precision-  0.9747899159663865\n",
      "For  KN\n",
      "Max_features_Accuracy -  0.9052224371373307\n",
      "Max_features_Precision-  1.0\n",
      "For  NB\n",
      "Max_features_Accuracy -  0.9709864603481625\n",
      "Max_features_Precision-  1.0\n",
      "For  DT\n",
      "Max_features_Accuracy -  0.9294003868471954\n",
      "Max_features_Precision-  0.8282828282828283\n",
      "For  LR\n",
      "Max_features_Accuracy -  0.9584139264990329\n",
      "Max_features_Precision-  0.9702970297029703\n",
      "For  RF\n",
      "Max_features_Accuracy -  0.9758220502901354\n",
      "Max_features_Precision-  0.9829059829059829\n",
      "For  AdaBoost\n",
      "Max_features_Accuracy -  0.960348162475822\n",
      "Max_features_Precision-  0.9292035398230089\n",
      "For  BgC\n",
      "Max_features_Accuracy -  0.9584139264990329\n",
      "Max_features_Precision-  0.8682170542635659\n",
      "For  ETC\n",
      "Max_features_Accuracy -  0.9748549323017408\n",
      "Max_features_Precision-  0.9745762711864406\n",
      "For  GBDT\n",
      "Max_features_Accuracy -  0.9468085106382979\n",
      "Max_features_Precision-  0.9191919191919192\n",
      "For  xgb\n",
      "Max_features_Accuracy -  0.9671179883945842\n",
      "Max_features_Precision-  0.9262295081967213\n"
     ]
    }
   ],
   "source": [
    "accuracy_scores = []\n",
    "precision_scores = []\n",
    "\n",
    "for name,clf in clfs.items():\n",
    "    \n",
    "    current_accuracy,current_precision = train_classifier(clf, X1_train,y_train,X1_test,y_test)\n",
    "    \n",
    "    print('For ',name)\n",
    "    print('Max_features_Accuracy - ',current_accuracy)\n",
    "    print('Max_features_Precision- ',current_precision)\n",
    "    \n",
    "    accuracy_scores.append(current_accuracy)\n",
    "    precision_scores.append(current_precision)"
   ]
  },
  {
   "cell_type": "code",
   "execution_count": 206,
   "id": "5f22aa3e",
   "metadata": {},
   "outputs": [],
   "source": [
    "temp_df = pd.DataFrame({'Algorithm':clfs.keys(),'Max_ft_3000_Accuracy':accuracy_scores,'Max_ft_30000_Precision':precision_scores}).sort_values('Max_ft_30000_Precision',ascending=False)"
   ]
  },
  {
   "cell_type": "code",
   "execution_count": 212,
   "id": "62c87680",
   "metadata": {},
   "outputs": [
    {
     "data": {
      "text/html": [
       "<div>\n",
       "<style scoped>\n",
       "    .dataframe tbody tr th:only-of-type {\n",
       "        vertical-align: middle;\n",
       "    }\n",
       "\n",
       "    .dataframe tbody tr th {\n",
       "        vertical-align: top;\n",
       "    }\n",
       "\n",
       "    .dataframe thead th {\n",
       "        text-align: right;\n",
       "    }\n",
       "</style>\n",
       "<table border=\"1\" class=\"dataframe\">\n",
       "  <thead>\n",
       "    <tr style=\"text-align: right;\">\n",
       "      <th></th>\n",
       "      <th>Algorithm</th>\n",
       "      <th>Accuracy</th>\n",
       "      <th>Precision</th>\n",
       "      <th>Max_ft_3000_Accuracy</th>\n",
       "      <th>Max_ft_30000_Precision</th>\n",
       "    </tr>\n",
       "  </thead>\n",
       "  <tbody>\n",
       "    <tr>\n",
       "      <th>0</th>\n",
       "      <td>KN</td>\n",
       "      <td>0.900387</td>\n",
       "      <td>1.000000</td>\n",
       "      <td>0.905222</td>\n",
       "      <td>1.000000</td>\n",
       "    </tr>\n",
       "    <tr>\n",
       "      <th>1</th>\n",
       "      <td>NB</td>\n",
       "      <td>0.959381</td>\n",
       "      <td>1.000000</td>\n",
       "      <td>0.970986</td>\n",
       "      <td>1.000000</td>\n",
       "    </tr>\n",
       "    <tr>\n",
       "      <th>2</th>\n",
       "      <td>RF</td>\n",
       "      <td>0.971954</td>\n",
       "      <td>1.000000</td>\n",
       "      <td>0.975822</td>\n",
       "      <td>0.982906</td>\n",
       "    </tr>\n",
       "    <tr>\n",
       "      <th>3</th>\n",
       "      <td>ETC</td>\n",
       "      <td>0.972921</td>\n",
       "      <td>0.982456</td>\n",
       "      <td>0.974855</td>\n",
       "      <td>0.974576</td>\n",
       "    </tr>\n",
       "    <tr>\n",
       "      <th>4</th>\n",
       "      <td>SVC</td>\n",
       "      <td>0.972921</td>\n",
       "      <td>0.974138</td>\n",
       "      <td>0.975822</td>\n",
       "      <td>0.974790</td>\n",
       "    </tr>\n",
       "    <tr>\n",
       "      <th>5</th>\n",
       "      <td>AdaBoost</td>\n",
       "      <td>0.961315</td>\n",
       "      <td>0.945455</td>\n",
       "      <td>0.960348</td>\n",
       "      <td>0.929204</td>\n",
       "    </tr>\n",
       "    <tr>\n",
       "      <th>6</th>\n",
       "      <td>xgb</td>\n",
       "      <td>0.972921</td>\n",
       "      <td>0.943548</td>\n",
       "      <td>0.967118</td>\n",
       "      <td>0.926230</td>\n",
       "    </tr>\n",
       "    <tr>\n",
       "      <th>7</th>\n",
       "      <td>LR</td>\n",
       "      <td>0.951644</td>\n",
       "      <td>0.940000</td>\n",
       "      <td>0.958414</td>\n",
       "      <td>0.970297</td>\n",
       "    </tr>\n",
       "    <tr>\n",
       "      <th>8</th>\n",
       "      <td>GBDT</td>\n",
       "      <td>0.952611</td>\n",
       "      <td>0.923810</td>\n",
       "      <td>0.946809</td>\n",
       "      <td>0.919192</td>\n",
       "    </tr>\n",
       "    <tr>\n",
       "      <th>9</th>\n",
       "      <td>BgC</td>\n",
       "      <td>0.958414</td>\n",
       "      <td>0.862595</td>\n",
       "      <td>0.958414</td>\n",
       "      <td>0.868217</td>\n",
       "    </tr>\n",
       "    <tr>\n",
       "      <th>10</th>\n",
       "      <td>DT</td>\n",
       "      <td>0.937137</td>\n",
       "      <td>0.854369</td>\n",
       "      <td>0.929400</td>\n",
       "      <td>0.828283</td>\n",
       "    </tr>\n",
       "  </tbody>\n",
       "</table>\n",
       "</div>"
      ],
      "text/plain": [
       "   Algorithm  Accuracy  Precision  Max_ft_3000_Accuracy  \\\n",
       "0         KN  0.900387   1.000000              0.905222   \n",
       "1         NB  0.959381   1.000000              0.970986   \n",
       "2         RF  0.971954   1.000000              0.975822   \n",
       "3        ETC  0.972921   0.982456              0.974855   \n",
       "4        SVC  0.972921   0.974138              0.975822   \n",
       "5   AdaBoost  0.961315   0.945455              0.960348   \n",
       "6        xgb  0.972921   0.943548              0.967118   \n",
       "7         LR  0.951644   0.940000              0.958414   \n",
       "8       GBDT  0.952611   0.923810              0.946809   \n",
       "9        BgC  0.958414   0.862595              0.958414   \n",
       "10        DT  0.937137   0.854369              0.929400   \n",
       "\n",
       "    Max_ft_30000_Precision  \n",
       "0                 1.000000  \n",
       "1                 1.000000  \n",
       "2                 0.982906  \n",
       "3                 0.974576  \n",
       "4                 0.974790  \n",
       "5                 0.929204  \n",
       "6                 0.926230  \n",
       "7                 0.970297  \n",
       "8                 0.919192  \n",
       "9                 0.868217  \n",
       "10                0.828283  "
      ]
     },
     "execution_count": 212,
     "metadata": {},
     "output_type": "execute_result"
    }
   ],
   "source": [
    "new_data = performance_df.merge(temp_df, on='Algorithm')\n",
    "new_data"
   ]
  },
  {
   "cell_type": "code",
   "execution_count": 208,
   "id": "e40b7edb",
   "metadata": {},
   "outputs": [],
   "source": [
    "from sklearn.preprocessing import MinMaxScaler\n",
    "scaler = MinMaxScaler()\n",
    "X2 = scaler.fit_transform(X1)"
   ]
  },
  {
   "cell_type": "code",
   "execution_count": 209,
   "id": "3415f717",
   "metadata": {},
   "outputs": [
    {
     "data": {
      "text/plain": [
       "array([[0., 0., 0., ..., 0., 0., 0.],\n",
       "       [0., 0., 0., ..., 0., 0., 0.],\n",
       "       [0., 0., 0., ..., 0., 0., 0.],\n",
       "       ...,\n",
       "       [0., 0., 0., ..., 0., 0., 0.],\n",
       "       [0., 0., 0., ..., 0., 0., 0.],\n",
       "       [0., 0., 0., ..., 0., 0., 0.]])"
      ]
     },
     "execution_count": 209,
     "metadata": {},
     "output_type": "execute_result"
    }
   ],
   "source": [
    "X2"
   ]
  },
  {
   "cell_type": "code",
   "execution_count": 210,
   "id": "4b4d1ff6",
   "metadata": {},
   "outputs": [],
   "source": [
    "X2_train,X2_test,y_train,y_test = train_test_split(X2,y,test_size =0.2,random_state =2)"
   ]
  },
  {
   "cell_type": "code",
   "execution_count": 213,
   "id": "1aeeb4a1",
   "metadata": {},
   "outputs": [],
   "source": [
    "def train_classifier(clf,X2_train,y_train,X2_test,y_test):\n",
    "    clf.fit(X2_train,y_train)\n",
    "    y_pred = clf.predict(X2_test)\n",
    "    accuracy = accuracy_score(y_test,y_pred)\n",
    "    precision = precision_score(y_test,y_pred)\n",
    "    return accuracy,precision"
   ]
  },
  {
   "cell_type": "code",
   "execution_count": 214,
   "id": "cfda15c6",
   "metadata": {},
   "outputs": [
    {
     "name": "stdout",
     "output_type": "stream",
     "text": [
      "For  SVC\n",
      "Scaled_Accuracy -  0.9690522243713733\n",
      "Scaled_Precision-  0.9274193548387096\n",
      "For  KN\n",
      "Scaled_Accuracy -  0.9052224371373307\n",
      "Scaled_Precision-  0.9761904761904762\n",
      "For  NB\n",
      "Scaled_Accuracy -  0.9787234042553191\n",
      "Scaled_Precision-  0.9461538461538461\n",
      "For  DT\n",
      "Scaled_Accuracy -  0.9274661508704062\n",
      "Scaled_Precision-  0.8118811881188119\n",
      "For  LR\n",
      "Scaled_Accuracy -  0.9671179883945842\n",
      "Scaled_Precision-  0.9642857142857143\n",
      "For  RF\n",
      "Scaled_Accuracy -  0.9758220502901354\n",
      "Scaled_Precision-  0.9829059829059829\n",
      "For  AdaBoost\n",
      "Scaled_Accuracy -  0.960348162475822\n",
      "Scaled_Precision-  0.9292035398230089\n",
      "For  BgC\n",
      "Scaled_Accuracy -  0.9584139264990329\n",
      "Scaled_Precision-  0.8682170542635659\n",
      "For  ETC\n",
      "Scaled_Accuracy -  0.9748549323017408\n",
      "Scaled_Precision-  0.9745762711864406\n",
      "For  GBDT\n",
      "Scaled_Accuracy -  0.9468085106382979\n",
      "Scaled_Precision-  0.9191919191919192\n",
      "For  xgb\n",
      "Scaled_Accuracy -  0.9671179883945842\n",
      "Scaled_Precision-  0.9262295081967213\n"
     ]
    }
   ],
   "source": [
    "accuracy_scores = []\n",
    "precision_scores = []\n",
    "\n",
    "for name,clf in clfs.items():\n",
    "    \n",
    "    current_accuracy,current_precision = train_classifier(clf, X2_train,y_train,X2_test,y_test)\n",
    "    \n",
    "    print('For ',name)\n",
    "    print('Scaled_Accuracy - ',current_accuracy)\n",
    "    print('Scaled_Precision- ',current_precision)\n",
    "    \n",
    "    accuracy_scores.append(current_accuracy)\n",
    "    precision_scores.append(current_precision)"
   ]
  },
  {
   "cell_type": "code",
   "execution_count": 215,
   "id": "df49a0b0",
   "metadata": {},
   "outputs": [],
   "source": [
    "temp_df_scaled = pd.DataFrame({'Algorithm':clfs.keys(),'Scaled_Accuracy':accuracy_scores,'Scaled_Precision':precision_scores}).sort_values('Scaled_Precision',ascending=False)"
   ]
  },
  {
   "cell_type": "code",
   "execution_count": 216,
   "id": "7009f32d",
   "metadata": {},
   "outputs": [],
   "source": [
    "new_data_scaled = new_data.merge(temp_df_scaled, on ='Algorithm')"
   ]
  },
  {
   "cell_type": "code",
   "execution_count": 217,
   "id": "b0c66057",
   "metadata": {},
   "outputs": [
    {
     "data": {
      "text/html": [
       "<div>\n",
       "<style scoped>\n",
       "    .dataframe tbody tr th:only-of-type {\n",
       "        vertical-align: middle;\n",
       "    }\n",
       "\n",
       "    .dataframe tbody tr th {\n",
       "        vertical-align: top;\n",
       "    }\n",
       "\n",
       "    .dataframe thead th {\n",
       "        text-align: right;\n",
       "    }\n",
       "</style>\n",
       "<table border=\"1\" class=\"dataframe\">\n",
       "  <thead>\n",
       "    <tr style=\"text-align: right;\">\n",
       "      <th></th>\n",
       "      <th>Algorithm</th>\n",
       "      <th>Accuracy</th>\n",
       "      <th>Precision</th>\n",
       "      <th>Max_ft_3000_Accuracy</th>\n",
       "      <th>Max_ft_30000_Precision</th>\n",
       "      <th>Scaled_Accuracy</th>\n",
       "      <th>Scaled_Precision</th>\n",
       "    </tr>\n",
       "  </thead>\n",
       "  <tbody>\n",
       "    <tr>\n",
       "      <th>0</th>\n",
       "      <td>KN</td>\n",
       "      <td>0.900387</td>\n",
       "      <td>1.000000</td>\n",
       "      <td>0.905222</td>\n",
       "      <td>1.000000</td>\n",
       "      <td>0.905222</td>\n",
       "      <td>0.976190</td>\n",
       "    </tr>\n",
       "    <tr>\n",
       "      <th>1</th>\n",
       "      <td>NB</td>\n",
       "      <td>0.959381</td>\n",
       "      <td>1.000000</td>\n",
       "      <td>0.970986</td>\n",
       "      <td>1.000000</td>\n",
       "      <td>0.978723</td>\n",
       "      <td>0.946154</td>\n",
       "    </tr>\n",
       "    <tr>\n",
       "      <th>2</th>\n",
       "      <td>RF</td>\n",
       "      <td>0.971954</td>\n",
       "      <td>1.000000</td>\n",
       "      <td>0.975822</td>\n",
       "      <td>0.982906</td>\n",
       "      <td>0.975822</td>\n",
       "      <td>0.982906</td>\n",
       "    </tr>\n",
       "    <tr>\n",
       "      <th>3</th>\n",
       "      <td>ETC</td>\n",
       "      <td>0.972921</td>\n",
       "      <td>0.982456</td>\n",
       "      <td>0.974855</td>\n",
       "      <td>0.974576</td>\n",
       "      <td>0.974855</td>\n",
       "      <td>0.974576</td>\n",
       "    </tr>\n",
       "    <tr>\n",
       "      <th>4</th>\n",
       "      <td>SVC</td>\n",
       "      <td>0.972921</td>\n",
       "      <td>0.974138</td>\n",
       "      <td>0.975822</td>\n",
       "      <td>0.974790</td>\n",
       "      <td>0.969052</td>\n",
       "      <td>0.927419</td>\n",
       "    </tr>\n",
       "    <tr>\n",
       "      <th>5</th>\n",
       "      <td>AdaBoost</td>\n",
       "      <td>0.961315</td>\n",
       "      <td>0.945455</td>\n",
       "      <td>0.960348</td>\n",
       "      <td>0.929204</td>\n",
       "      <td>0.960348</td>\n",
       "      <td>0.929204</td>\n",
       "    </tr>\n",
       "    <tr>\n",
       "      <th>6</th>\n",
       "      <td>xgb</td>\n",
       "      <td>0.972921</td>\n",
       "      <td>0.943548</td>\n",
       "      <td>0.967118</td>\n",
       "      <td>0.926230</td>\n",
       "      <td>0.967118</td>\n",
       "      <td>0.926230</td>\n",
       "    </tr>\n",
       "    <tr>\n",
       "      <th>7</th>\n",
       "      <td>LR</td>\n",
       "      <td>0.951644</td>\n",
       "      <td>0.940000</td>\n",
       "      <td>0.958414</td>\n",
       "      <td>0.970297</td>\n",
       "      <td>0.967118</td>\n",
       "      <td>0.964286</td>\n",
       "    </tr>\n",
       "    <tr>\n",
       "      <th>8</th>\n",
       "      <td>GBDT</td>\n",
       "      <td>0.952611</td>\n",
       "      <td>0.923810</td>\n",
       "      <td>0.946809</td>\n",
       "      <td>0.919192</td>\n",
       "      <td>0.946809</td>\n",
       "      <td>0.919192</td>\n",
       "    </tr>\n",
       "    <tr>\n",
       "      <th>9</th>\n",
       "      <td>BgC</td>\n",
       "      <td>0.958414</td>\n",
       "      <td>0.862595</td>\n",
       "      <td>0.958414</td>\n",
       "      <td>0.868217</td>\n",
       "      <td>0.958414</td>\n",
       "      <td>0.868217</td>\n",
       "    </tr>\n",
       "    <tr>\n",
       "      <th>10</th>\n",
       "      <td>DT</td>\n",
       "      <td>0.937137</td>\n",
       "      <td>0.854369</td>\n",
       "      <td>0.929400</td>\n",
       "      <td>0.828283</td>\n",
       "      <td>0.927466</td>\n",
       "      <td>0.811881</td>\n",
       "    </tr>\n",
       "  </tbody>\n",
       "</table>\n",
       "</div>"
      ],
      "text/plain": [
       "   Algorithm  Accuracy  Precision  Max_ft_3000_Accuracy  \\\n",
       "0         KN  0.900387   1.000000              0.905222   \n",
       "1         NB  0.959381   1.000000              0.970986   \n",
       "2         RF  0.971954   1.000000              0.975822   \n",
       "3        ETC  0.972921   0.982456              0.974855   \n",
       "4        SVC  0.972921   0.974138              0.975822   \n",
       "5   AdaBoost  0.961315   0.945455              0.960348   \n",
       "6        xgb  0.972921   0.943548              0.967118   \n",
       "7         LR  0.951644   0.940000              0.958414   \n",
       "8       GBDT  0.952611   0.923810              0.946809   \n",
       "9        BgC  0.958414   0.862595              0.958414   \n",
       "10        DT  0.937137   0.854369              0.929400   \n",
       "\n",
       "    Max_ft_30000_Precision  Scaled_Accuracy  Scaled_Precision  \n",
       "0                 1.000000         0.905222          0.976190  \n",
       "1                 1.000000         0.978723          0.946154  \n",
       "2                 0.982906         0.975822          0.982906  \n",
       "3                 0.974576         0.974855          0.974576  \n",
       "4                 0.974790         0.969052          0.927419  \n",
       "5                 0.929204         0.960348          0.929204  \n",
       "6                 0.926230         0.967118          0.926230  \n",
       "7                 0.970297         0.967118          0.964286  \n",
       "8                 0.919192         0.946809          0.919192  \n",
       "9                 0.868217         0.958414          0.868217  \n",
       "10                0.828283         0.927466          0.811881  "
      ]
     },
     "execution_count": 217,
     "metadata": {},
     "output_type": "execute_result"
    }
   ],
   "source": [
    "new_data_scaled"
   ]
  },
  {
   "cell_type": "markdown",
   "id": "eb290615",
   "metadata": {},
   "source": [
    "# Scaling doesn't provides any benefit"
   ]
  },
  {
   "cell_type": "code",
   "execution_count": 218,
   "id": "0bbfc91b",
   "metadata": {},
   "outputs": [],
   "source": [
    "#lets try out voting classifier, if its gonna increase the performance"
   ]
  },
  {
   "cell_type": "code",
   "execution_count": 219,
   "id": "4512b3b3",
   "metadata": {},
   "outputs": [],
   "source": [
    "from sklearn.ensemble import VotingClassifier\n",
    "\n",
    "svc = SVC(kernel='sigmoid', gamma=1.0,probability=True)\n",
    "mnb = MultinomialNB()\n",
    "etc = ExtraTreesClassifier(n_estimators=50, random_state=2)\n",
    "\n"
   ]
  },
  {
   "cell_type": "code",
   "execution_count": 220,
   "id": "c7497253",
   "metadata": {},
   "outputs": [],
   "source": [
    "voting = VotingClassifier(estimators=[('svm', svc), ('nb', mnb), ('et', etc)],voting='soft')"
   ]
  },
  {
   "cell_type": "code",
   "execution_count": 221,
   "id": "d2d8420b",
   "metadata": {},
   "outputs": [
    {
     "data": {
      "text/html": [
       "<style>#sk-container-id-2 {color: black;}#sk-container-id-2 pre{padding: 0;}#sk-container-id-2 div.sk-toggleable {background-color: white;}#sk-container-id-2 label.sk-toggleable__label {cursor: pointer;display: block;width: 100%;margin-bottom: 0;padding: 0.3em;box-sizing: border-box;text-align: center;}#sk-container-id-2 label.sk-toggleable__label-arrow:before {content: \"▸\";float: left;margin-right: 0.25em;color: #696969;}#sk-container-id-2 label.sk-toggleable__label-arrow:hover:before {color: black;}#sk-container-id-2 div.sk-estimator:hover label.sk-toggleable__label-arrow:before {color: black;}#sk-container-id-2 div.sk-toggleable__content {max-height: 0;max-width: 0;overflow: hidden;text-align: left;background-color: #f0f8ff;}#sk-container-id-2 div.sk-toggleable__content pre {margin: 0.2em;color: black;border-radius: 0.25em;background-color: #f0f8ff;}#sk-container-id-2 input.sk-toggleable__control:checked~div.sk-toggleable__content {max-height: 200px;max-width: 100%;overflow: auto;}#sk-container-id-2 input.sk-toggleable__control:checked~label.sk-toggleable__label-arrow:before {content: \"▾\";}#sk-container-id-2 div.sk-estimator input.sk-toggleable__control:checked~label.sk-toggleable__label {background-color: #d4ebff;}#sk-container-id-2 div.sk-label input.sk-toggleable__control:checked~label.sk-toggleable__label {background-color: #d4ebff;}#sk-container-id-2 input.sk-hidden--visually {border: 0;clip: rect(1px 1px 1px 1px);clip: rect(1px, 1px, 1px, 1px);height: 1px;margin: -1px;overflow: hidden;padding: 0;position: absolute;width: 1px;}#sk-container-id-2 div.sk-estimator {font-family: monospace;background-color: #f0f8ff;border: 1px dotted black;border-radius: 0.25em;box-sizing: border-box;margin-bottom: 0.5em;}#sk-container-id-2 div.sk-estimator:hover {background-color: #d4ebff;}#sk-container-id-2 div.sk-parallel-item::after {content: \"\";width: 100%;border-bottom: 1px solid gray;flex-grow: 1;}#sk-container-id-2 div.sk-label:hover label.sk-toggleable__label {background-color: #d4ebff;}#sk-container-id-2 div.sk-serial::before {content: \"\";position: absolute;border-left: 1px solid gray;box-sizing: border-box;top: 0;bottom: 0;left: 50%;z-index: 0;}#sk-container-id-2 div.sk-serial {display: flex;flex-direction: column;align-items: center;background-color: white;padding-right: 0.2em;padding-left: 0.2em;position: relative;}#sk-container-id-2 div.sk-item {position: relative;z-index: 1;}#sk-container-id-2 div.sk-parallel {display: flex;align-items: stretch;justify-content: center;background-color: white;position: relative;}#sk-container-id-2 div.sk-item::before, #sk-container-id-2 div.sk-parallel-item::before {content: \"\";position: absolute;border-left: 1px solid gray;box-sizing: border-box;top: 0;bottom: 0;left: 50%;z-index: -1;}#sk-container-id-2 div.sk-parallel-item {display: flex;flex-direction: column;z-index: 1;position: relative;background-color: white;}#sk-container-id-2 div.sk-parallel-item:first-child::after {align-self: flex-end;width: 50%;}#sk-container-id-2 div.sk-parallel-item:last-child::after {align-self: flex-start;width: 50%;}#sk-container-id-2 div.sk-parallel-item:only-child::after {width: 0;}#sk-container-id-2 div.sk-dashed-wrapped {border: 1px dashed gray;margin: 0 0.4em 0.5em 0.4em;box-sizing: border-box;padding-bottom: 0.4em;background-color: white;}#sk-container-id-2 div.sk-label label {font-family: monospace;font-weight: bold;display: inline-block;line-height: 1.2em;}#sk-container-id-2 div.sk-label-container {text-align: center;}#sk-container-id-2 div.sk-container {/* jupyter's `normalize.less` sets `[hidden] { display: none; }` but bootstrap.min.css set `[hidden] { display: none !important; }` so we also need the `!important` here to be able to override the default hidden behavior on the sphinx rendered scikit-learn.org. See: https://github.com/scikit-learn/scikit-learn/issues/21755 */display: inline-block !important;position: relative;}#sk-container-id-2 div.sk-text-repr-fallback {display: none;}</style><div id=\"sk-container-id-2\" class=\"sk-top-container\"><div class=\"sk-text-repr-fallback\"><pre>VotingClassifier(estimators=[(&#x27;svm&#x27;,\n",
       "                              SVC(gamma=1.0, kernel=&#x27;sigmoid&#x27;,\n",
       "                                  probability=True)),\n",
       "                             (&#x27;nb&#x27;, MultinomialNB()),\n",
       "                             (&#x27;et&#x27;,\n",
       "                              ExtraTreesClassifier(n_estimators=50,\n",
       "                                                   random_state=2))],\n",
       "                 voting=&#x27;soft&#x27;)</pre><b>In a Jupyter environment, please rerun this cell to show the HTML representation or trust the notebook. <br />On GitHub, the HTML representation is unable to render, please try loading this page with nbviewer.org.</b></div><div class=\"sk-container\" hidden><div class=\"sk-item sk-dashed-wrapped\"><div class=\"sk-label-container\"><div class=\"sk-label sk-toggleable\"><input class=\"sk-toggleable__control sk-hidden--visually\" id=\"sk-estimator-id-2\" type=\"checkbox\" ><label for=\"sk-estimator-id-2\" class=\"sk-toggleable__label sk-toggleable__label-arrow\">VotingClassifier</label><div class=\"sk-toggleable__content\"><pre>VotingClassifier(estimators=[(&#x27;svm&#x27;,\n",
       "                              SVC(gamma=1.0, kernel=&#x27;sigmoid&#x27;,\n",
       "                                  probability=True)),\n",
       "                             (&#x27;nb&#x27;, MultinomialNB()),\n",
       "                             (&#x27;et&#x27;,\n",
       "                              ExtraTreesClassifier(n_estimators=50,\n",
       "                                                   random_state=2))],\n",
       "                 voting=&#x27;soft&#x27;)</pre></div></div></div><div class=\"sk-parallel\"><div class=\"sk-parallel-item\"><div class=\"sk-item\"><div class=\"sk-label-container\"><div class=\"sk-label sk-toggleable\"><label>svm</label></div></div><div class=\"sk-serial\"><div class=\"sk-item\"><div class=\"sk-estimator sk-toggleable\"><input class=\"sk-toggleable__control sk-hidden--visually\" id=\"sk-estimator-id-3\" type=\"checkbox\" ><label for=\"sk-estimator-id-3\" class=\"sk-toggleable__label sk-toggleable__label-arrow\">SVC</label><div class=\"sk-toggleable__content\"><pre>SVC(gamma=1.0, kernel=&#x27;sigmoid&#x27;, probability=True)</pre></div></div></div></div></div></div><div class=\"sk-parallel-item\"><div class=\"sk-item\"><div class=\"sk-label-container\"><div class=\"sk-label sk-toggleable\"><label>nb</label></div></div><div class=\"sk-serial\"><div class=\"sk-item\"><div class=\"sk-estimator sk-toggleable\"><input class=\"sk-toggleable__control sk-hidden--visually\" id=\"sk-estimator-id-4\" type=\"checkbox\" ><label for=\"sk-estimator-id-4\" class=\"sk-toggleable__label sk-toggleable__label-arrow\">MultinomialNB</label><div class=\"sk-toggleable__content\"><pre>MultinomialNB()</pre></div></div></div></div></div></div><div class=\"sk-parallel-item\"><div class=\"sk-item\"><div class=\"sk-label-container\"><div class=\"sk-label sk-toggleable\"><label>et</label></div></div><div class=\"sk-serial\"><div class=\"sk-item\"><div class=\"sk-estimator sk-toggleable\"><input class=\"sk-toggleable__control sk-hidden--visually\" id=\"sk-estimator-id-5\" type=\"checkbox\" ><label for=\"sk-estimator-id-5\" class=\"sk-toggleable__label sk-toggleable__label-arrow\">ExtraTreesClassifier</label><div class=\"sk-toggleable__content\"><pre>ExtraTreesClassifier(n_estimators=50, random_state=2)</pre></div></div></div></div></div></div></div></div></div></div>"
      ],
      "text/plain": [
       "VotingClassifier(estimators=[('svm',\n",
       "                              SVC(gamma=1.0, kernel='sigmoid',\n",
       "                                  probability=True)),\n",
       "                             ('nb', MultinomialNB()),\n",
       "                             ('et',\n",
       "                              ExtraTreesClassifier(n_estimators=50,\n",
       "                                                   random_state=2))],\n",
       "                 voting='soft')"
      ]
     },
     "execution_count": 221,
     "metadata": {},
     "output_type": "execute_result"
    }
   ],
   "source": [
    "voting.fit(X1_train,y_train)"
   ]
  },
  {
   "cell_type": "code",
   "execution_count": 223,
   "id": "fd508211",
   "metadata": {},
   "outputs": [
    {
     "name": "stdout",
     "output_type": "stream",
     "text": [
      "Accuracy 0.9816247582205029\n",
      "Precision 0.9917355371900827\n"
     ]
    }
   ],
   "source": [
    "y_pred = voting.predict(X1_test)\n",
    "print(\"Accuracy\",accuracy_score(y_test,y_pred))\n",
    "print(\"Precision\",precision_score(y_test,y_pred))"
   ]
  },
  {
   "cell_type": "markdown",
   "id": "200468fa",
   "metadata": {},
   "source": [
    "#No benefit"
   ]
  },
  {
   "cell_type": "markdown",
   "id": "9ce30725",
   "metadata": {},
   "source": [
    "Lets use stacking"
   ]
  },
  {
   "cell_type": "code",
   "execution_count": 224,
   "id": "468281d3",
   "metadata": {},
   "outputs": [],
   "source": [
    "# Applying stacking\n",
    "estimators=[('svm', svc), ('nb', mnb), ('et', etc)]\n",
    "final_estimator=RandomForestClassifier()"
   ]
  },
  {
   "cell_type": "code",
   "execution_count": 225,
   "id": "ce686a81",
   "metadata": {},
   "outputs": [],
   "source": [
    "from sklearn.ensemble import StackingClassifier"
   ]
  },
  {
   "cell_type": "code",
   "execution_count": 226,
   "id": "8089d69b",
   "metadata": {},
   "outputs": [],
   "source": [
    "clf = StackingClassifier(estimators=estimators, final_estimator=final_estimator)"
   ]
  },
  {
   "cell_type": "code",
   "execution_count": 227,
   "id": "92547293",
   "metadata": {},
   "outputs": [
    {
     "name": "stdout",
     "output_type": "stream",
     "text": [
      "Accuracy 0.9787234042553191\n",
      "Precision 0.9393939393939394\n"
     ]
    }
   ],
   "source": [
    "clf.fit(X1_train,y_train)\n",
    "y_pred = clf.predict(X1_test)\n",
    "print(\"Accuracy\",accuracy_score(y_test,y_pred))\n",
    "print(\"Precision\",precision_score(y_test,y_pred))"
   ]
  },
  {
   "cell_type": "markdown",
   "id": "f629f240",
   "metadata": {},
   "source": [
    "#No benefit from stacking also"
   ]
  },
  {
   "cell_type": "code",
   "execution_count": 250,
   "id": "6574948c",
   "metadata": {},
   "outputs": [],
   "source": [
    "tfidf_1 = TfidfVectorizer(max_features =3000)"
   ]
  },
  {
   "cell_type": "code",
   "execution_count": 251,
   "id": "58394f62",
   "metadata": {},
   "outputs": [],
   "source": [
    "X1 = tfidf_1.fit_transform(df['transformed_text']).toarray()\n",
    "y = df['target'].values"
   ]
  },
  {
   "cell_type": "code",
   "execution_count": 252,
   "id": "6292ccfa",
   "metadata": {},
   "outputs": [],
   "source": [
    "X1_train,X1_test,y_train,y_test = train_test_split(X1,y,test_size =0.2,random_state =2)"
   ]
  },
  {
   "cell_type": "code",
   "execution_count": 253,
   "id": "50f95b6d",
   "metadata": {},
   "outputs": [
    {
     "data": {
      "text/plain": [
       "(5169, 3000)"
      ]
     },
     "execution_count": 253,
     "metadata": {},
     "output_type": "execute_result"
    }
   ],
   "source": [
    "X1.shape"
   ]
  },
  {
   "cell_type": "code",
   "execution_count": 254,
   "id": "ef42590c",
   "metadata": {},
   "outputs": [
    {
     "name": "stdout",
     "output_type": "stream",
     "text": [
      "0.9709864603481625\n",
      "[[896   0]\n",
      " [ 30 108]]\n",
      "1.0\n"
     ]
    }
   ],
   "source": [
    "mnb = MultinomialNB()\n",
    "mnb.fit(X1_train,y_train)\n",
    "y_pred2 = mnb.predict(X1_test)\n",
    "print(accuracy_score(y_test,y_pred2))\n",
    "print(confusion_matrix(y_test,y_pred2))\n",
    "print(precision_score(y_test,y_pred2))"
   ]
  },
  {
   "cell_type": "code",
   "execution_count": 255,
   "id": "85b9aa64",
   "metadata": {},
   "outputs": [],
   "source": [
    "import pickle\n",
    "pickle.dump(tfidf_1, open('vectorizer.pkl','wb'))\n",
    "pickle.dump(mnb,open('model.pkl','wb'))"
   ]
  },
  {
   "cell_type": "code",
   "execution_count": null,
   "id": "08078fbc",
   "metadata": {},
   "outputs": [],
   "source": []
  }
 ],
 "metadata": {
  "kernelspec": {
   "display_name": "Python 3 (ipykernel)",
   "language": "python",
   "name": "python3"
  },
  "language_info": {
   "codemirror_mode": {
    "name": "ipython",
    "version": 3
   },
   "file_extension": ".py",
   "mimetype": "text/x-python",
   "name": "python",
   "nbconvert_exporter": "python",
   "pygments_lexer": "ipython3",
   "version": "3.11.4"
  }
 },
 "nbformat": 4,
 "nbformat_minor": 5
}
